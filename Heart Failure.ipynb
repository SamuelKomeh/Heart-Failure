{
 "cells": [
  {
   "cell_type": "markdown",
   "metadata": {},
   "source": [
    "### Dissertation Title: Artificial Intelligence supporting early detection and diagnosis in heart failure management.\n",
    "\n",
    "### Goal: To develop a machine, ensembled method and artificial intelligence or deep learning algorithm to detect and predict the presence or absence (accuracy) of cardiovascular disease (heart failure) based on the other variables"
   ]
  },
  {
   "cell_type": "markdown",
   "metadata": {},
   "source": [
    "### Cardiovascular disease (Heart Failure)\n",
    "\n",
    "With an estimated 840,768 deaths in 2016, cardiovascular disease is the top cause of mortality in the United States. However, almost 200,000 fatalities each year may be prevented with modest lifestyle changes and screening. Using only standard health information, we will examine different machine learning approaches for detecting the presence of cardiovascular disease. We use both traditional machine learning and state-of-the-art deep learning techniques.\n",
    "\n",
    "The machine learning techniques include a Random Forest classifier, Logistic Regression, Linear support vector machine (SVM), adaboost classifier, bagging, decision tree classifier. For our deep learning technique, we also use a multilayer preceptron neural network for this cardiovascular disease detection\n",
    "\n",
    "In addition to utilising these methods to diagnose cardiovascular disease, we will explore which data features are most indicative for the disease. With  nearly 70,000 patients, our dataset contains standard health information as well as information on the presence or absence of cardiovascular disease. Our goal here is not only to develop a classifier to detect the existence of cardiovascular disease, but also to discover which aspects and types of data (demographic, examination, and social history) are most beneficial for disease prediction. With the findings of this study, physicians may be able to modify their existing case history procedures in order to gather more valuable data from their patients.\n",
    "\n",
    "### Dataset\n",
    "\n",
    "The cardiovascular disease dataset is an open-source dataset produced by Svetlana Ulianova in canada and uploaded on Kaggle in the year 2018. The data set consists of 70,000 patient records (34,979 with cardiovascular disease and 35,021 without) and includes 11 characteristics (4 demographic, 4 examination, and 3 social history  and also our target variable which is cardio.\n",
    ">1. The age (age) of the patient which is demographic (\tint)(days)\n",
    ">2. Weight (weight) of the patient which is demographic (float) (kg)\n",
    ">3. Height (height) of the patient which is demographic (int)(cm)\n",
    ">4. The gender (gender) of the person which is demographic (categorical code)(Binary) which is 1 or 2, where 1 is women and 2 is men\n",
    ">5. Systolic blood pressure (api_hi) is the highest level of blood pressure, mainly the medical examination (int)\n",
    ">6. Diastolic blood pressure (api_lo) is the lowest level of blood pressure mainly the medical examination (int)\n",
    ">7. Cholesterol (cholesterol) is a kind of fat mainly the medical examination where 1: normal, 2: above normal, 3: well above normal, which is a categorical code (int)\n",
    ">8. Glucose (gluc) is a kind of sugamainly ther mainly the medical examination where 1: normal, 2: above normal, 3: well above normal, which is a categorical code (int)\n",
    ">9. Smoking (smoke) which is the smoking history of the patient (binary)\n",
    ">10. Alcohol (alco) intake which is the alcohol intake of the patient which is the social history (binary)\n",
    ">11. Physical activity (active) which is the activity of the patient. It describes whether the patient is or active or not, It also refers to the social history of the patients. (Binary)\n",
    ">12. Cardio which is the presence or absence of the diseases (Binary)\n",
    "\n",
    "\n",
    "Some features are numerical, while others are assigned categorical codes, and  others have binary values. Although the classes are balanced, more female patients were seen than male patients. Furthermore, the continuous-valued features are almost normally distributed; nevertheless, the some of the categorical values are skewed, when will address all in our analysis\n"
   ]
  },
  {
   "cell_type": "code",
   "execution_count": 1,
   "metadata": {},
   "outputs": [],
   "source": [
    "#Importing the libraries\n",
    "\n",
    "import pandas as pd\n",
    "import numpy as np\n",
    "import matplotlib\n",
    "import matplotlib.pyplot as plt\n",
    "import seaborn as sns\n",
    "from itertools import product\n",
    "import warnings\n",
    "from pandas.core.common import SettingWithCopyWarning\n",
    "warnings.simplefilter(action=\"ignore\", category=SettingWithCopyWarning)\n",
    "\n",
    "##Data transformation,spilting and model building\n",
    "from sklearn.model_selection import train_test_split,cross_val_score,KFold,cross_val_predict,GridSearchCV\n",
    "from sklearn.linear_model import LogisticRegression\n",
    "from sklearn.dummy import DummyClassifier\n",
    "from sklearn.model_selection import RandomizedSearchCV\n",
    "\n",
    "from sklearn.preprocessing import RobustScaler, label_binarize\n",
    "\n",
    "from sklearn.tree import DecisionTreeClassifier, export_graphviz\n",
    "import graphviz\n",
    "from sklearn.linear_model import LogisticRegressionCV\n",
    "from sklearn.preprocessing import MinMaxScaler, LabelEncoder, StandardScaler, RobustScaler\n",
    "\n",
    "from sklearn.ensemble import BaggingClassifier, RandomForestClassifier, AdaBoostClassifier, GradientBoostingClassifier\n",
    "from sklearn.svm import LinearSVC, SVC\n",
    "from sklearn.neural_network import MLPClassifier\n",
    "\n",
    "###Evaluation\n",
    "from sklearn.metrics import accuracy_score, precision_score, recall_score, f1_score, \\\n",
    "    roc_auc_score, confusion_matrix, classification_report, plot_roc_curve\n",
    "\n",
    "from sklearn.metrics import jaccard_score, adjusted_rand_score, silhouette_score, calinski_harabasz_score, roc_curve, auc, accuracy_score, classification_report, confusion_matrix\n",
    "from sklearn.metrics.cluster import contingency_matrix\n",
    "\n"
   ]
  },
  {
   "cell_type": "markdown",
   "metadata": {},
   "source": [
    "### What is Binary Classification?\n",
    "\n",
    "Binary classification is a supervised machine learning technique where the goal is to predict categorical class labels which are discrete and unoredered such as Yes or No, Positive or Negative etc. A few real world use cases for classification are listed below:\n",
    "\n",
    ">1. Medical testing to determine if a patient has a certain disease or not - the classification property is the presence of the disease.\n"
   ]
  },
  {
   "cell_type": "markdown",
   "metadata": {},
   "source": [
    "### Data Preparation"
   ]
  },
  {
   "cell_type": "code",
   "execution_count": 2,
   "metadata": {},
   "outputs": [
    {
     "data": {
      "text/html": [
       "<div>\n",
       "<style scoped>\n",
       "    .dataframe tbody tr th:only-of-type {\n",
       "        vertical-align: middle;\n",
       "    }\n",
       "\n",
       "    .dataframe tbody tr th {\n",
       "        vertical-align: top;\n",
       "    }\n",
       "\n",
       "    .dataframe thead th {\n",
       "        text-align: right;\n",
       "    }\n",
       "</style>\n",
       "<table border=\"1\" class=\"dataframe\">\n",
       "  <thead>\n",
       "    <tr style=\"text-align: right;\">\n",
       "      <th></th>\n",
       "      <th>id</th>\n",
       "      <th>age</th>\n",
       "      <th>gender</th>\n",
       "      <th>height</th>\n",
       "      <th>weight</th>\n",
       "      <th>ap_hi</th>\n",
       "      <th>ap_lo</th>\n",
       "      <th>cholesterol</th>\n",
       "      <th>gluc</th>\n",
       "      <th>smoke</th>\n",
       "      <th>alco</th>\n",
       "      <th>active</th>\n",
       "      <th>cardio</th>\n",
       "    </tr>\n",
       "  </thead>\n",
       "  <tbody>\n",
       "    <tr>\n",
       "      <th>0</th>\n",
       "      <td>0</td>\n",
       "      <td>18393</td>\n",
       "      <td>2</td>\n",
       "      <td>168</td>\n",
       "      <td>62.0</td>\n",
       "      <td>110</td>\n",
       "      <td>80</td>\n",
       "      <td>1</td>\n",
       "      <td>1</td>\n",
       "      <td>0</td>\n",
       "      <td>0</td>\n",
       "      <td>1</td>\n",
       "      <td>0</td>\n",
       "    </tr>\n",
       "    <tr>\n",
       "      <th>1</th>\n",
       "      <td>1</td>\n",
       "      <td>20228</td>\n",
       "      <td>1</td>\n",
       "      <td>156</td>\n",
       "      <td>85.0</td>\n",
       "      <td>140</td>\n",
       "      <td>90</td>\n",
       "      <td>3</td>\n",
       "      <td>1</td>\n",
       "      <td>0</td>\n",
       "      <td>0</td>\n",
       "      <td>1</td>\n",
       "      <td>1</td>\n",
       "    </tr>\n",
       "    <tr>\n",
       "      <th>2</th>\n",
       "      <td>2</td>\n",
       "      <td>18857</td>\n",
       "      <td>1</td>\n",
       "      <td>165</td>\n",
       "      <td>64.0</td>\n",
       "      <td>130</td>\n",
       "      <td>70</td>\n",
       "      <td>3</td>\n",
       "      <td>1</td>\n",
       "      <td>0</td>\n",
       "      <td>0</td>\n",
       "      <td>0</td>\n",
       "      <td>1</td>\n",
       "    </tr>\n",
       "    <tr>\n",
       "      <th>3</th>\n",
       "      <td>3</td>\n",
       "      <td>17623</td>\n",
       "      <td>2</td>\n",
       "      <td>169</td>\n",
       "      <td>82.0</td>\n",
       "      <td>150</td>\n",
       "      <td>100</td>\n",
       "      <td>1</td>\n",
       "      <td>1</td>\n",
       "      <td>0</td>\n",
       "      <td>0</td>\n",
       "      <td>1</td>\n",
       "      <td>1</td>\n",
       "    </tr>\n",
       "    <tr>\n",
       "      <th>4</th>\n",
       "      <td>4</td>\n",
       "      <td>17474</td>\n",
       "      <td>1</td>\n",
       "      <td>156</td>\n",
       "      <td>56.0</td>\n",
       "      <td>100</td>\n",
       "      <td>60</td>\n",
       "      <td>1</td>\n",
       "      <td>1</td>\n",
       "      <td>0</td>\n",
       "      <td>0</td>\n",
       "      <td>0</td>\n",
       "      <td>0</td>\n",
       "    </tr>\n",
       "  </tbody>\n",
       "</table>\n",
       "</div>"
      ],
      "text/plain": [
       "   id    age  gender  height  weight  ap_hi  ap_lo  cholesterol  gluc  smoke  \\\n",
       "0   0  18393       2     168    62.0    110     80            1     1      0   \n",
       "1   1  20228       1     156    85.0    140     90            3     1      0   \n",
       "2   2  18857       1     165    64.0    130     70            3     1      0   \n",
       "3   3  17623       2     169    82.0    150    100            1     1      0   \n",
       "4   4  17474       1     156    56.0    100     60            1     1      0   \n",
       "\n",
       "   alco  active  cardio  \n",
       "0     0       1       0  \n",
       "1     0       1       1  \n",
       "2     0       0       1  \n",
       "3     0       1       1  \n",
       "4     0       0       0  "
      ]
     },
     "execution_count": 2,
     "metadata": {},
     "output_type": "execute_result"
    }
   ],
   "source": [
    "###reading the data into python\n",
    "df= pd.read_csv('C:/Users/spant/Desktop/Dissertation/Dissertation/cardio.csv', sep=';') \n",
    "\n",
    "###first row of the data\n",
    "df.head()"
   ]
  },
  {
   "cell_type": "code",
   "execution_count": 3,
   "metadata": {},
   "outputs": [
    {
     "data": {
      "text/html": [
       "<div>\n",
       "<style scoped>\n",
       "    .dataframe tbody tr th:only-of-type {\n",
       "        vertical-align: middle;\n",
       "    }\n",
       "\n",
       "    .dataframe tbody tr th {\n",
       "        vertical-align: top;\n",
       "    }\n",
       "\n",
       "    .dataframe thead th {\n",
       "        text-align: right;\n",
       "    }\n",
       "</style>\n",
       "<table border=\"1\" class=\"dataframe\">\n",
       "  <thead>\n",
       "    <tr style=\"text-align: right;\">\n",
       "      <th></th>\n",
       "      <th>id</th>\n",
       "      <th>age</th>\n",
       "      <th>gender</th>\n",
       "      <th>height</th>\n",
       "      <th>weight</th>\n",
       "      <th>ap_hi</th>\n",
       "      <th>ap_lo</th>\n",
       "      <th>cholesterol</th>\n",
       "      <th>gluc</th>\n",
       "      <th>smoke</th>\n",
       "      <th>alco</th>\n",
       "      <th>active</th>\n",
       "      <th>cardio</th>\n",
       "    </tr>\n",
       "  </thead>\n",
       "  <tbody>\n",
       "    <tr>\n",
       "      <th>count</th>\n",
       "      <td>70000.000000</td>\n",
       "      <td>70000.000000</td>\n",
       "      <td>70000.000000</td>\n",
       "      <td>70000.000000</td>\n",
       "      <td>70000.000000</td>\n",
       "      <td>70000.000000</td>\n",
       "      <td>70000.000000</td>\n",
       "      <td>70000.000000</td>\n",
       "      <td>70000.000000</td>\n",
       "      <td>70000.000000</td>\n",
       "      <td>70000.000000</td>\n",
       "      <td>70000.000000</td>\n",
       "      <td>70000.000000</td>\n",
       "    </tr>\n",
       "    <tr>\n",
       "      <th>mean</th>\n",
       "      <td>49972.419900</td>\n",
       "      <td>19468.865814</td>\n",
       "      <td>1.349571</td>\n",
       "      <td>164.359229</td>\n",
       "      <td>74.205690</td>\n",
       "      <td>128.817286</td>\n",
       "      <td>96.630414</td>\n",
       "      <td>1.366871</td>\n",
       "      <td>1.226457</td>\n",
       "      <td>0.088129</td>\n",
       "      <td>0.053771</td>\n",
       "      <td>0.803729</td>\n",
       "      <td>0.499700</td>\n",
       "    </tr>\n",
       "    <tr>\n",
       "      <th>std</th>\n",
       "      <td>28851.302323</td>\n",
       "      <td>2467.251667</td>\n",
       "      <td>0.476838</td>\n",
       "      <td>8.210126</td>\n",
       "      <td>14.395757</td>\n",
       "      <td>154.011419</td>\n",
       "      <td>188.472530</td>\n",
       "      <td>0.680250</td>\n",
       "      <td>0.572270</td>\n",
       "      <td>0.283484</td>\n",
       "      <td>0.225568</td>\n",
       "      <td>0.397179</td>\n",
       "      <td>0.500003</td>\n",
       "    </tr>\n",
       "    <tr>\n",
       "      <th>min</th>\n",
       "      <td>0.000000</td>\n",
       "      <td>10798.000000</td>\n",
       "      <td>1.000000</td>\n",
       "      <td>55.000000</td>\n",
       "      <td>10.000000</td>\n",
       "      <td>-150.000000</td>\n",
       "      <td>-70.000000</td>\n",
       "      <td>1.000000</td>\n",
       "      <td>1.000000</td>\n",
       "      <td>0.000000</td>\n",
       "      <td>0.000000</td>\n",
       "      <td>0.000000</td>\n",
       "      <td>0.000000</td>\n",
       "    </tr>\n",
       "    <tr>\n",
       "      <th>25%</th>\n",
       "      <td>25006.750000</td>\n",
       "      <td>17664.000000</td>\n",
       "      <td>1.000000</td>\n",
       "      <td>159.000000</td>\n",
       "      <td>65.000000</td>\n",
       "      <td>120.000000</td>\n",
       "      <td>80.000000</td>\n",
       "      <td>1.000000</td>\n",
       "      <td>1.000000</td>\n",
       "      <td>0.000000</td>\n",
       "      <td>0.000000</td>\n",
       "      <td>1.000000</td>\n",
       "      <td>0.000000</td>\n",
       "    </tr>\n",
       "    <tr>\n",
       "      <th>50%</th>\n",
       "      <td>50001.500000</td>\n",
       "      <td>19703.000000</td>\n",
       "      <td>1.000000</td>\n",
       "      <td>165.000000</td>\n",
       "      <td>72.000000</td>\n",
       "      <td>120.000000</td>\n",
       "      <td>80.000000</td>\n",
       "      <td>1.000000</td>\n",
       "      <td>1.000000</td>\n",
       "      <td>0.000000</td>\n",
       "      <td>0.000000</td>\n",
       "      <td>1.000000</td>\n",
       "      <td>0.000000</td>\n",
       "    </tr>\n",
       "    <tr>\n",
       "      <th>75%</th>\n",
       "      <td>74889.250000</td>\n",
       "      <td>21327.000000</td>\n",
       "      <td>2.000000</td>\n",
       "      <td>170.000000</td>\n",
       "      <td>82.000000</td>\n",
       "      <td>140.000000</td>\n",
       "      <td>90.000000</td>\n",
       "      <td>2.000000</td>\n",
       "      <td>1.000000</td>\n",
       "      <td>0.000000</td>\n",
       "      <td>0.000000</td>\n",
       "      <td>1.000000</td>\n",
       "      <td>1.000000</td>\n",
       "    </tr>\n",
       "    <tr>\n",
       "      <th>max</th>\n",
       "      <td>99999.000000</td>\n",
       "      <td>23713.000000</td>\n",
       "      <td>2.000000</td>\n",
       "      <td>250.000000</td>\n",
       "      <td>200.000000</td>\n",
       "      <td>16020.000000</td>\n",
       "      <td>11000.000000</td>\n",
       "      <td>3.000000</td>\n",
       "      <td>3.000000</td>\n",
       "      <td>1.000000</td>\n",
       "      <td>1.000000</td>\n",
       "      <td>1.000000</td>\n",
       "      <td>1.000000</td>\n",
       "    </tr>\n",
       "  </tbody>\n",
       "</table>\n",
       "</div>"
      ],
      "text/plain": [
       "                 id           age        gender        height        weight  \\\n",
       "count  70000.000000  70000.000000  70000.000000  70000.000000  70000.000000   \n",
       "mean   49972.419900  19468.865814      1.349571    164.359229     74.205690   \n",
       "std    28851.302323   2467.251667      0.476838      8.210126     14.395757   \n",
       "min        0.000000  10798.000000      1.000000     55.000000     10.000000   \n",
       "25%    25006.750000  17664.000000      1.000000    159.000000     65.000000   \n",
       "50%    50001.500000  19703.000000      1.000000    165.000000     72.000000   \n",
       "75%    74889.250000  21327.000000      2.000000    170.000000     82.000000   \n",
       "max    99999.000000  23713.000000      2.000000    250.000000    200.000000   \n",
       "\n",
       "              ap_hi         ap_lo   cholesterol          gluc         smoke  \\\n",
       "count  70000.000000  70000.000000  70000.000000  70000.000000  70000.000000   \n",
       "mean     128.817286     96.630414      1.366871      1.226457      0.088129   \n",
       "std      154.011419    188.472530      0.680250      0.572270      0.283484   \n",
       "min     -150.000000    -70.000000      1.000000      1.000000      0.000000   \n",
       "25%      120.000000     80.000000      1.000000      1.000000      0.000000   \n",
       "50%      120.000000     80.000000      1.000000      1.000000      0.000000   \n",
       "75%      140.000000     90.000000      2.000000      1.000000      0.000000   \n",
       "max    16020.000000  11000.000000      3.000000      3.000000      1.000000   \n",
       "\n",
       "               alco        active        cardio  \n",
       "count  70000.000000  70000.000000  70000.000000  \n",
       "mean       0.053771      0.803729      0.499700  \n",
       "std        0.225568      0.397179      0.500003  \n",
       "min        0.000000      0.000000      0.000000  \n",
       "25%        0.000000      1.000000      0.000000  \n",
       "50%        0.000000      1.000000      0.000000  \n",
       "75%        0.000000      1.000000      1.000000  \n",
       "max        1.000000      1.000000      1.000000  "
      ]
     },
     "execution_count": 3,
     "metadata": {},
     "output_type": "execute_result"
    }
   ],
   "source": [
    "df.describe()\n"
   ]
  },
  {
   "cell_type": "markdown",
   "metadata": {},
   "source": [
    "We infer that certain data features are binary or ordinal, while others are continuous, based on an initial statistical overview of the dataset. Furthermore, some variables, such as systolic and diastolic blood pressure (ap hi and ap lo), have unrealistic minimum and maximum values. This indicates that there are outliers in the data."
   ]
  },
  {
   "cell_type": "code",
   "execution_count": 4,
   "metadata": {},
   "outputs": [
    {
     "name": "stdout",
     "output_type": "stream",
     "text": [
      "<class 'pandas.core.frame.DataFrame'>\n",
      "RangeIndex: 70000 entries, 0 to 69999\n",
      "Data columns (total 13 columns):\n",
      " #   Column       Non-Null Count  Dtype  \n",
      "---  ------       --------------  -----  \n",
      " 0   id           70000 non-null  int64  \n",
      " 1   age          70000 non-null  int64  \n",
      " 2   gender       70000 non-null  int64  \n",
      " 3   height       70000 non-null  int64  \n",
      " 4   weight       70000 non-null  float64\n",
      " 5   ap_hi        70000 non-null  int64  \n",
      " 6   ap_lo        70000 non-null  int64  \n",
      " 7   cholesterol  70000 non-null  int64  \n",
      " 8   gluc         70000 non-null  int64  \n",
      " 9   smoke        70000 non-null  int64  \n",
      " 10  alco         70000 non-null  int64  \n",
      " 11  active       70000 non-null  int64  \n",
      " 12  cardio       70000 non-null  int64  \n",
      "dtypes: float64(1), int64(12)\n",
      "memory usage: 6.9 MB\n"
     ]
    }
   ],
   "source": [
    "df.info()"
   ]
  },
  {
   "cell_type": "markdown",
   "metadata": {},
   "source": [
    "There are no null values in this dataset, and all data values are either ints or floats."
   ]
  },
  {
   "cell_type": "code",
   "execution_count": 5,
   "metadata": {},
   "outputs": [
    {
     "data": {
      "text/plain": [
       "0    35021\n",
       "1    34979\n",
       "Name: cardio, dtype: int64"
      ]
     },
     "execution_count": 5,
     "metadata": {},
     "output_type": "execute_result"
    }
   ],
   "source": [
    "# check distribution of target variable\n",
    "df.cardio.value_counts()\n",
    "\n",
    "\n"
   ]
  },
  {
   "cell_type": "markdown",
   "metadata": {},
   "source": [
    "In this dataset, 35,021 of the 70,000 patients are classified as having no cardiovascular disease, whereas 34,979 are classified as having cardiovascular disease. This indicates that the data is fairly balanced."
   ]
  },
  {
   "cell_type": "markdown",
   "metadata": {},
   "source": [
    "### Exploratory Data Analysis"
   ]
  },
  {
   "cell_type": "code",
   "execution_count": 6,
   "metadata": {},
   "outputs": [
    {
     "data": {
      "image/png": "[encoded data removed]",
      "text/plain": [
       "<Figure size 792x576 with 1 Axes>"
      ]
     },
     "metadata": {
      "needs_background": "light"
     },
     "output_type": "display_data"
    }
   ],
   "source": [
    "###Univariate Analysis of numerical values\n",
    "\n",
    "####We will then convert age to years and plot the diagram\n",
    "\n",
    "from matplotlib import rcParams\n",
    "rcParams['figure.figsize'] = 11, 8\n",
    "\n",
    "###We will convert age from days to years \n",
    "df['age'] = (df['age'] / 365).round().astype('int')\n",
    "sns.countplot(x='age', hue='cardio', data = df, palette=\"Set2\");\n"
   ]
  },
  {
   "cell_type": "markdown",
   "metadata": {},
   "source": [
    "It can be observed that people over 55 of age are more exposed to Cardiovascular Disease(Heart Failure). From the table above, we can see that there are outliers in ap_hi, ap_lo, weight and height. We will deal with them in data cleaning."
   ]
  },
  {
   "cell_type": "code",
   "execution_count": 7,
   "metadata": {},
   "outputs": [
    {
     "data": {
      "image/png": "[encoded data removed]",
      "text/plain": [
       "<Figure size 792x576 with 1 Axes>"
      ]
     },
     "metadata": {
      "needs_background": "light"
     },
     "output_type": "display_data"
    }
   ],
   "source": [
    "### Univariate Analysis for cholesterol, gluc, smoke, alco and active\n",
    "\n",
    "df_1 = df.loc[:,['cholesterol','gluc', 'smoke', 'alco', 'active']]\n",
    "sns.countplot(x=\"variable\", hue=\"value\",data= pd.melt(df_1));"
   ]
  },
  {
   "cell_type": "markdown",
   "metadata": {},
   "source": [
    "Alcohol intake had the highest frequency"
   ]
  },
  {
   "cell_type": "code",
   "execution_count": 8,
   "metadata": {},
   "outputs": [
    {
     "data": {
      "image/png": "[encoded data removed]",
      "text/plain": [
       "<Figure size 762.375x360 with 2 Axes>"
      ]
     },
     "metadata": {
      "needs_background": "light"
     },
     "output_type": "display_data"
    }
   ],
   "source": [
    "####Bivariate Analysis\n",
    "\n",
    "###It may be useful to split categorical variables by target class\n",
    "\n",
    "df_long = pd.melt(df, id_vars=['cardio'], value_vars=['cholesterol','gluc', 'smoke', 'alco', 'active'])\n",
    "sns.catplot(x=\"variable\", hue=\"value\", col=\"cardio\",\n",
    "                data=df_long, kind=\"count\");\n"
   ]
  },
  {
   "cell_type": "markdown",
   "metadata": {},
   "source": [
    "It can be clearly seen that patients with CVD have higher cholesterol and blood glucose level. Moreover they are less active.\n",
    "Let us calculate the mean height per gender to see if \"1\" in the gender column refers to women or men. We presume that men are, on average, taller than women."
   ]
  },
  {
   "cell_type": "code",
   "execution_count": 9,
   "metadata": {},
   "outputs": [
    {
     "data": {
      "text/plain": [
       "gender\n",
       "1    161.355612\n",
       "2    169.947895\n",
       "Name: height, dtype: float64"
      ]
     },
     "execution_count": 9,
     "metadata": {},
     "output_type": "execute_result"
    }
   ],
   "source": [
    "df.groupby('gender')['height'].mean()"
   ]
  },
  {
   "cell_type": "markdown",
   "metadata": {},
   "source": [
    "Moreover, the average height for the \"2\" gender is greater than that of the \"1\" gender, \"1\" represents women. Let's look at how many males and women are represented in the dataset."
   ]
  },
  {
   "cell_type": "code",
   "execution_count": 10,
   "metadata": {},
   "outputs": [
    {
     "data": {
      "text/plain": [
       "<matplotlib.axes._subplots.AxesSubplot at 0x14db0b9ea60>"
      ]
     },
     "execution_count": 10,
     "metadata": {},
     "output_type": "execute_result"
    },
    {
     "data": {
      "image/png": "[encoded data removed]",
      "text/plain": [
       "<Figure size 792x576 with 1 Axes>"
      ]
     },
     "metadata": {
      "needs_background": "light"
     },
     "output_type": "display_data"
    }
   ],
   "source": [
    "# visualize cardio with gender where 1 is women and 2 is male\n",
    "sns.countplot(x='cardio',data=df,hue='gender',palette='rainbow')"
   ]
  },
  {
   "cell_type": "code",
   "execution_count": 11,
   "metadata": {},
   "outputs": [
    {
     "data": {
      "text/plain": [
       "1    45530\n",
       "2    24470\n",
       "Name: gender, dtype: int64"
      ]
     },
     "execution_count": 11,
     "metadata": {},
     "output_type": "execute_result"
    }
   ],
   "source": [
    "df['gender'].value_counts()"
   ]
  },
  {
   "cell_type": "code",
   "execution_count": 12,
   "metadata": {},
   "outputs": [
    {
     "data": {
      "text/plain": [
       "gender\n",
       "1    1161\n",
       "2    2603\n",
       "Name: alco, dtype: int64"
      ]
     },
     "execution_count": 12,
     "metadata": {},
     "output_type": "execute_result"
    }
   ],
   "source": [
    "#Who more often report consuming alcohol - men or women?\n",
    "df.groupby('gender')['alco'].sum()\n",
    "\n"
   ]
  },
  {
   "cell_type": "markdown",
   "metadata": {},
   "source": [
    "Therefore, men consume alcohol more frequently on average. Next, the target variables are balanced"
   ]
  },
  {
   "cell_type": "code",
   "execution_count": 13,
   "metadata": {},
   "outputs": [
    {
     "data": {
      "text/plain": [
       "<matplotlib.axes._subplots.AxesSubplot at 0x14db1fae370>"
      ]
     },
     "execution_count": 13,
     "metadata": {},
     "output_type": "execute_result"
    },
    {
     "data": {
      "image/png": "[encoded data removed]",
      "text/plain": [
       "<Figure size 792x576 with 1 Axes>"
      ]
     },
     "metadata": {
      "needs_background": "light"
     },
     "output_type": "display_data"
    }
   ],
   "source": [
    "# distribution of cardio with age\n",
    "sns.boxplot(x='cardio',y='age',data=df)"
   ]
  },
  {
   "cell_type": "code",
   "execution_count": 14,
   "metadata": {},
   "outputs": [
    {
     "data": {
      "text/plain": [
       "<matplotlib.axes._subplots.AxesSubplot at 0x14db1f56730>"
      ]
     },
     "execution_count": 14,
     "metadata": {},
     "output_type": "execute_result"
    },
    {
     "data": {
      "image/png": "[encoded data removed]",
      "text/plain": [
       "<Figure size 1008x432 with 2 Axes>"
      ]
     },
     "metadata": {
      "needs_background": "light"
     },
     "output_type": "display_data"
    }
   ],
   "source": [
    "#Cardio with height and weight\n",
    "\n",
    "plt.figure(figsize=(14,6))\n",
    "plt.subplot(1,2,1)\n",
    "sns.boxplot(x='cardio',y='height',data=df,palette='winter')\n",
    "plt.subplot(1,2,2)\n",
    "sns.boxplot(x='cardio',y='weight',data=df,palette='summer')"
   ]
  },
  {
   "cell_type": "code",
   "execution_count": 15,
   "metadata": {},
   "outputs": [
    {
     "data": {
      "text/plain": [
       "<matplotlib.axes._subplots.AxesSubplot at 0x14db0ae07f0>"
      ]
     },
     "execution_count": 15,
     "metadata": {},
     "output_type": "execute_result"
    },
    {
     "data": {
      "image/png": "[encoded data removed]",
      "text/plain": [
       "<Figure size 1440x1080 with 2 Axes>"
      ]
     },
     "metadata": {
      "needs_background": "light"
     },
     "output_type": "display_data"
    }
   ],
   "source": [
    "#Multivariate Analysis\n",
    "#It might be useful to consider correlation matrix:\n",
    "# check correlations\n",
    "plt.subplots(figsize=(20,15))\n",
    "sns.heatmap(df.corr(), annot=True)"
   ]
  },
  {
   "cell_type": "markdown",
   "metadata": {},
   "source": [
    "A heatmap shows the correlations between the dataset's variables.We can observe from the heatmap that no features directly connect with the label (cardio) and that there are no significant correlations between other variables in general. However, there are correlations between a few variables:\n",
    ">1. A score of 0.5 is correlated to height and gender.\n",
    ">2. A score of 0.45 is correlated with glucose and cholesterol.\n",
    ">3. A score of 0.34 is correlated with smoking habits and alco."
   ]
  },
  {
   "cell_type": "markdown",
   "metadata": {},
   "source": [
    "### Data Preprocessing and Cleaning"
   ]
  },
  {
   "cell_type": "code",
   "execution_count": 16,
   "metadata": {},
   "outputs": [
    {
     "data": {
      "text/html": [
       "<div>\n",
       "<style scoped>\n",
       "    .dataframe tbody tr th:only-of-type {\n",
       "        vertical-align: middle;\n",
       "    }\n",
       "\n",
       "    .dataframe tbody tr th {\n",
       "        vertical-align: top;\n",
       "    }\n",
       "\n",
       "    .dataframe thead th {\n",
       "        text-align: right;\n",
       "    }\n",
       "</style>\n",
       "<table border=\"1\" class=\"dataframe\">\n",
       "  <thead>\n",
       "    <tr style=\"text-align: right;\">\n",
       "      <th></th>\n",
       "      <th>id</th>\n",
       "      <th>age</th>\n",
       "      <th>gender</th>\n",
       "      <th>height</th>\n",
       "      <th>weight</th>\n",
       "      <th>ap_hi</th>\n",
       "      <th>ap_lo</th>\n",
       "      <th>cholesterol</th>\n",
       "      <th>gluc</th>\n",
       "      <th>smoke</th>\n",
       "      <th>alco</th>\n",
       "      <th>active</th>\n",
       "      <th>cardio</th>\n",
       "    </tr>\n",
       "  </thead>\n",
       "  <tbody>\n",
       "    <tr>\n",
       "      <th>0</th>\n",
       "      <td>0</td>\n",
       "      <td>50</td>\n",
       "      <td>2</td>\n",
       "      <td>168</td>\n",
       "      <td>62.0</td>\n",
       "      <td>110</td>\n",
       "      <td>80</td>\n",
       "      <td>1</td>\n",
       "      <td>1</td>\n",
       "      <td>0</td>\n",
       "      <td>0</td>\n",
       "      <td>1</td>\n",
       "      <td>0</td>\n",
       "    </tr>\n",
       "    <tr>\n",
       "      <th>1</th>\n",
       "      <td>1</td>\n",
       "      <td>55</td>\n",
       "      <td>1</td>\n",
       "      <td>156</td>\n",
       "      <td>85.0</td>\n",
       "      <td>140</td>\n",
       "      <td>90</td>\n",
       "      <td>3</td>\n",
       "      <td>1</td>\n",
       "      <td>0</td>\n",
       "      <td>0</td>\n",
       "      <td>1</td>\n",
       "      <td>1</td>\n",
       "    </tr>\n",
       "    <tr>\n",
       "      <th>2</th>\n",
       "      <td>2</td>\n",
       "      <td>52</td>\n",
       "      <td>1</td>\n",
       "      <td>165</td>\n",
       "      <td>64.0</td>\n",
       "      <td>130</td>\n",
       "      <td>70</td>\n",
       "      <td>3</td>\n",
       "      <td>1</td>\n",
       "      <td>0</td>\n",
       "      <td>0</td>\n",
       "      <td>0</td>\n",
       "      <td>1</td>\n",
       "    </tr>\n",
       "    <tr>\n",
       "      <th>3</th>\n",
       "      <td>3</td>\n",
       "      <td>48</td>\n",
       "      <td>2</td>\n",
       "      <td>169</td>\n",
       "      <td>82.0</td>\n",
       "      <td>150</td>\n",
       "      <td>100</td>\n",
       "      <td>1</td>\n",
       "      <td>1</td>\n",
       "      <td>0</td>\n",
       "      <td>0</td>\n",
       "      <td>1</td>\n",
       "      <td>1</td>\n",
       "    </tr>\n",
       "    <tr>\n",
       "      <th>4</th>\n",
       "      <td>4</td>\n",
       "      <td>48</td>\n",
       "      <td>1</td>\n",
       "      <td>156</td>\n",
       "      <td>56.0</td>\n",
       "      <td>100</td>\n",
       "      <td>60</td>\n",
       "      <td>1</td>\n",
       "      <td>1</td>\n",
       "      <td>0</td>\n",
       "      <td>0</td>\n",
       "      <td>0</td>\n",
       "      <td>0</td>\n",
       "    </tr>\n",
       "  </tbody>\n",
       "</table>\n",
       "</div>"
      ],
      "text/plain": [
       "   id  age  gender  height  weight  ap_hi  ap_lo  cholesterol  gluc  smoke  \\\n",
       "0   0   50       2     168    62.0    110     80            1     1      0   \n",
       "1   1   55       1     156    85.0    140     90            3     1      0   \n",
       "2   2   52       1     165    64.0    130     70            3     1      0   \n",
       "3   3   48       2     169    82.0    150    100            1     1      0   \n",
       "4   4   48       1     156    56.0    100     60            1     1      0   \n",
       "\n",
       "   alco  active  cardio  \n",
       "0     0       1       0  \n",
       "1     0       1       1  \n",
       "2     0       0       1  \n",
       "3     0       1       1  \n",
       "4     0       0       0  "
      ]
     },
     "execution_count": 16,
     "metadata": {},
     "output_type": "execute_result"
    }
   ],
   "source": [
    "df.head()\n"
   ]
  },
  {
   "cell_type": "code",
   "execution_count": 17,
   "metadata": {},
   "outputs": [],
   "source": [
    "#### we will remove id \n",
    "df = df.drop('id', axis=1)"
   ]
  },
  {
   "cell_type": "code",
   "execution_count": 18,
   "metadata": {},
   "outputs": [
    {
     "data": {
      "text/html": [
       "<div>\n",
       "<style scoped>\n",
       "    .dataframe tbody tr th:only-of-type {\n",
       "        vertical-align: middle;\n",
       "    }\n",
       "\n",
       "    .dataframe tbody tr th {\n",
       "        vertical-align: top;\n",
       "    }\n",
       "\n",
       "    .dataframe thead th {\n",
       "        text-align: right;\n",
       "    }\n",
       "</style>\n",
       "<table border=\"1\" class=\"dataframe\">\n",
       "  <thead>\n",
       "    <tr style=\"text-align: right;\">\n",
       "      <th></th>\n",
       "      <th>age</th>\n",
       "      <th>gender</th>\n",
       "      <th>height</th>\n",
       "      <th>weight</th>\n",
       "      <th>ap_hi</th>\n",
       "      <th>ap_lo</th>\n",
       "      <th>cholesterol</th>\n",
       "      <th>gluc</th>\n",
       "      <th>smoke</th>\n",
       "      <th>alco</th>\n",
       "      <th>active</th>\n",
       "      <th>cardio</th>\n",
       "    </tr>\n",
       "  </thead>\n",
       "  <tbody>\n",
       "    <tr>\n",
       "      <th>0</th>\n",
       "      <td>50</td>\n",
       "      <td>2</td>\n",
       "      <td>168</td>\n",
       "      <td>62.0</td>\n",
       "      <td>110</td>\n",
       "      <td>80</td>\n",
       "      <td>1</td>\n",
       "      <td>1</td>\n",
       "      <td>0</td>\n",
       "      <td>0</td>\n",
       "      <td>1</td>\n",
       "      <td>0</td>\n",
       "    </tr>\n",
       "    <tr>\n",
       "      <th>1</th>\n",
       "      <td>55</td>\n",
       "      <td>1</td>\n",
       "      <td>156</td>\n",
       "      <td>85.0</td>\n",
       "      <td>140</td>\n",
       "      <td>90</td>\n",
       "      <td>3</td>\n",
       "      <td>1</td>\n",
       "      <td>0</td>\n",
       "      <td>0</td>\n",
       "      <td>1</td>\n",
       "      <td>1</td>\n",
       "    </tr>\n",
       "    <tr>\n",
       "      <th>2</th>\n",
       "      <td>52</td>\n",
       "      <td>1</td>\n",
       "      <td>165</td>\n",
       "      <td>64.0</td>\n",
       "      <td>130</td>\n",
       "      <td>70</td>\n",
       "      <td>3</td>\n",
       "      <td>1</td>\n",
       "      <td>0</td>\n",
       "      <td>0</td>\n",
       "      <td>0</td>\n",
       "      <td>1</td>\n",
       "    </tr>\n",
       "    <tr>\n",
       "      <th>3</th>\n",
       "      <td>48</td>\n",
       "      <td>2</td>\n",
       "      <td>169</td>\n",
       "      <td>82.0</td>\n",
       "      <td>150</td>\n",
       "      <td>100</td>\n",
       "      <td>1</td>\n",
       "      <td>1</td>\n",
       "      <td>0</td>\n",
       "      <td>0</td>\n",
       "      <td>1</td>\n",
       "      <td>1</td>\n",
       "    </tr>\n",
       "    <tr>\n",
       "      <th>4</th>\n",
       "      <td>48</td>\n",
       "      <td>1</td>\n",
       "      <td>156</td>\n",
       "      <td>56.0</td>\n",
       "      <td>100</td>\n",
       "      <td>60</td>\n",
       "      <td>1</td>\n",
       "      <td>1</td>\n",
       "      <td>0</td>\n",
       "      <td>0</td>\n",
       "      <td>0</td>\n",
       "      <td>0</td>\n",
       "    </tr>\n",
       "  </tbody>\n",
       "</table>\n",
       "</div>"
      ],
      "text/plain": [
       "   age  gender  height  weight  ap_hi  ap_lo  cholesterol  gluc  smoke  alco  \\\n",
       "0   50       2     168    62.0    110     80            1     1      0     0   \n",
       "1   55       1     156    85.0    140     90            3     1      0     0   \n",
       "2   52       1     165    64.0    130     70            3     1      0     0   \n",
       "3   48       2     169    82.0    150    100            1     1      0     0   \n",
       "4   48       1     156    56.0    100     60            1     1      0     0   \n",
       "\n",
       "   active  cardio  \n",
       "0       1       0  \n",
       "1       1       1  \n",
       "2       0       1  \n",
       "3       1       1  \n",
       "4       0       0  "
      ]
     },
     "execution_count": 18,
     "metadata": {},
     "output_type": "execute_result"
    }
   ],
   "source": [
    "df.head()"
   ]
  },
  {
   "cell_type": "markdown",
   "metadata": {},
   "source": [
    "We converted age into years because it was in days during the plotting of the age graph"
   ]
  },
  {
   "cell_type": "code",
   "execution_count": 19,
   "metadata": {},
   "outputs": [
    {
     "data": {
      "text/plain": [
       "3816"
      ]
     },
     "execution_count": 19,
     "metadata": {},
     "output_type": "execute_result"
    }
   ],
   "source": [
    "#we will check for duplication\n",
    "df.duplicated().sum()"
   ]
  },
  {
   "cell_type": "code",
   "execution_count": 20,
   "metadata": {},
   "outputs": [],
   "source": [
    "#We will delete duplicated values\n",
    "df.drop_duplicates(inplace=True) "
   ]
  },
  {
   "cell_type": "code",
   "execution_count": 21,
   "metadata": {},
   "outputs": [
    {
     "data": {
      "text/plain": [
       "0"
      ]
     },
     "execution_count": 21,
     "metadata": {},
     "output_type": "execute_result"
    }
   ],
   "source": [
    "#we will check for duplication again\n",
    "df.duplicated().sum()"
   ]
  },
  {
   "cell_type": "markdown",
   "metadata": {},
   "source": [
    "Duplicated values have been deleted"
   ]
  },
  {
   "cell_type": "markdown",
   "metadata": {},
   "source": [
    "### Outliers detection "
   ]
  },
  {
   "cell_type": "code",
   "execution_count": 22,
   "metadata": {},
   "outputs": [],
   "source": [
    "###Adjust thresholds and check the outliers\n",
    "def outlier_thresholds(dataframe, col_name, q1=0.10, q3=0.90):\n",
    "    quartile1 = dataframe[col_name].quantile(q1)\n",
    "    quartile3 = dataframe[col_name].quantile(q3)\n",
    "    interquantile_range = quartile3 - quartile1\n",
    "    up_limit = quartile3 + 1.5 * interquantile_range\n",
    "    low_limit = quartile1 - 1.5 * interquantile_range\n",
    "    return low_limit, up_limit"
   ]
  },
  {
   "cell_type": "code",
   "execution_count": 23,
   "metadata": {},
   "outputs": [],
   "source": [
    "def check_outlier(dataframe, col_name, q1=0.10, q3=0.90):\n",
    "    low_limit, up_limit = outlier_thresholds(dataframe, col_name, q1, q3)\n",
    "    if dataframe[(dataframe[col_name] > up_limit) | (dataframe[col_name] < low_limit)].any(axis=None):\n",
    "        return True\n",
    "    else:\n",
    "        return False"
   ]
  },
  {
   "cell_type": "code",
   "execution_count": 24,
   "metadata": {},
   "outputs": [],
   "source": [
    "#### We were able to separate the variables in the data set as categorical and numerical.\n",
    "\n",
    "def grab_col_names(dataframe, cat_th=10, car_th=20):\n",
    "    # cat_cols, cat_but_car\n",
    "    cat_cols = [col for col in dataframe.columns if dataframe[col].dtypes == \"O\"]\n",
    "    num_but_cat = [col for col in dataframe.columns if dataframe[col].nunique() < cat_th and\n",
    "                   dataframe[col].dtypes != \"O\"]\n",
    "    cat_but_car = [col for col in dataframe.columns if dataframe[col].nunique() > car_th and\n",
    "                   dataframe[col].dtypes == \"O\"]\n",
    "    cat_cols = cat_cols + num_but_cat\n",
    "    cat_cols = [col for col in cat_cols if col not in cat_but_car]\n",
    "\n",
    "    # num_cols\n",
    "    num_cols = [col for col in dataframe.columns if dataframe[col].dtypes != \"O\"]\n",
    "    num_cols = [col for col in num_cols if col not in num_but_cat]\n",
    "\n",
    "    print(f\"Observations: {dataframe.shape[0]}\")\n",
    "    print(f\"Variables: {dataframe.shape[1]}\")\n",
    "    print(f'cat_cols: {len(cat_cols)}')\n",
    "    print(f'num_cols: {len(num_cols)}')\n",
    "    print(f'cat_but_car: {len(cat_but_car)}')\n",
    "    print(f'num_but_cat: {len(num_but_cat)}')\n",
    "    return cat_cols, num_cols, cat_but_car"
   ]
  },
  {
   "cell_type": "markdown",
   "metadata": {},
   "source": [
    "We will now check which feature has an outlier"
   ]
  },
  {
   "cell_type": "code",
   "execution_count": 25,
   "metadata": {},
   "outputs": [
    {
     "name": "stdout",
     "output_type": "stream",
     "text": [
      "Observations: 66184\n",
      "Variables: 12\n",
      "cat_cols: 7\n",
      "num_cols: 5\n",
      "cat_but_car: 0\n",
      "num_but_cat: 7\n",
      "age False\n",
      "height True\n",
      "weight True\n",
      "ap_hi True\n",
      "ap_lo True\n"
     ]
    }
   ],
   "source": [
    "cat_cols, num_cols, cat_but_car = grab_col_names(df)\n",
    "\n",
    "for col in num_cols:\n",
    "    print(col, check_outlier(df, col))"
   ]
  },
  {
   "cell_type": "code",
   "execution_count": 26,
   "metadata": {},
   "outputs": [],
   "source": [
    "####Replacing outliers with upper and lower limit\n",
    "def replace_with_thresholds(dataframe, variable):\n",
    "    low_limit, up_limit = outlier_thresholds(dataframe, variable)\n",
    "    dataframe.loc[(dataframe[variable] < low_limit), variable] = low_limit\n",
    "    dataframe.loc[(dataframe[variable] > up_limit), variable] = up_limit"
   ]
  },
  {
   "cell_type": "code",
   "execution_count": 27,
   "metadata": {},
   "outputs": [],
   "source": [
    "for col in num_cols:\n",
    "    replace_with_thresholds(df, col)"
   ]
  },
  {
   "cell_type": "code",
   "execution_count": 28,
   "metadata": {},
   "outputs": [
    {
     "name": "stdout",
     "output_type": "stream",
     "text": [
      "age False\n",
      "height False\n",
      "weight False\n",
      "ap_hi False\n",
      "ap_lo False\n"
     ]
    }
   ],
   "source": [
    "####We have cleaned and check for outliers\n",
    "\n",
    "for col in num_cols:\n",
    "    print(col, check_outlier(df, col))"
   ]
  },
  {
   "cell_type": "code",
   "execution_count": 29,
   "metadata": {},
   "outputs": [
    {
     "data": {
      "text/plain": [
       "False"
      ]
     },
     "execution_count": 29,
     "metadata": {},
     "output_type": "execute_result"
    }
   ],
   "source": [
    "df.isnull().values.any()"
   ]
  },
  {
   "cell_type": "code",
   "execution_count": 30,
   "metadata": {},
   "outputs": [
    {
     "data": {
      "text/html": [
       "<div>\n",
       "<style scoped>\n",
       "    .dataframe tbody tr th:only-of-type {\n",
       "        vertical-align: middle;\n",
       "    }\n",
       "\n",
       "    .dataframe tbody tr th {\n",
       "        vertical-align: top;\n",
       "    }\n",
       "\n",
       "    .dataframe thead th {\n",
       "        text-align: right;\n",
       "    }\n",
       "</style>\n",
       "<table border=\"1\" class=\"dataframe\">\n",
       "  <thead>\n",
       "    <tr style=\"text-align: right;\">\n",
       "      <th></th>\n",
       "      <th>age</th>\n",
       "      <th>gender</th>\n",
       "      <th>height</th>\n",
       "      <th>weight</th>\n",
       "      <th>ap_hi</th>\n",
       "      <th>ap_lo</th>\n",
       "      <th>cholesterol</th>\n",
       "      <th>gluc</th>\n",
       "      <th>smoke</th>\n",
       "      <th>alco</th>\n",
       "      <th>active</th>\n",
       "      <th>cardio</th>\n",
       "    </tr>\n",
       "  </thead>\n",
       "  <tbody>\n",
       "    <tr>\n",
       "      <th>0</th>\n",
       "      <td>50.0</td>\n",
       "      <td>2</td>\n",
       "      <td>168.0</td>\n",
       "      <td>62.0</td>\n",
       "      <td>110.0</td>\n",
       "      <td>80.0</td>\n",
       "      <td>1</td>\n",
       "      <td>1</td>\n",
       "      <td>0</td>\n",
       "      <td>0</td>\n",
       "      <td>1</td>\n",
       "      <td>0</td>\n",
       "    </tr>\n",
       "    <tr>\n",
       "      <th>1</th>\n",
       "      <td>55.0</td>\n",
       "      <td>1</td>\n",
       "      <td>156.0</td>\n",
       "      <td>85.0</td>\n",
       "      <td>140.0</td>\n",
       "      <td>90.0</td>\n",
       "      <td>3</td>\n",
       "      <td>1</td>\n",
       "      <td>0</td>\n",
       "      <td>0</td>\n",
       "      <td>1</td>\n",
       "      <td>1</td>\n",
       "    </tr>\n",
       "    <tr>\n",
       "      <th>2</th>\n",
       "      <td>52.0</td>\n",
       "      <td>1</td>\n",
       "      <td>165.0</td>\n",
       "      <td>64.0</td>\n",
       "      <td>130.0</td>\n",
       "      <td>70.0</td>\n",
       "      <td>3</td>\n",
       "      <td>1</td>\n",
       "      <td>0</td>\n",
       "      <td>0</td>\n",
       "      <td>0</td>\n",
       "      <td>1</td>\n",
       "    </tr>\n",
       "    <tr>\n",
       "      <th>3</th>\n",
       "      <td>48.0</td>\n",
       "      <td>2</td>\n",
       "      <td>169.0</td>\n",
       "      <td>82.0</td>\n",
       "      <td>150.0</td>\n",
       "      <td>100.0</td>\n",
       "      <td>1</td>\n",
       "      <td>1</td>\n",
       "      <td>0</td>\n",
       "      <td>0</td>\n",
       "      <td>1</td>\n",
       "      <td>1</td>\n",
       "    </tr>\n",
       "    <tr>\n",
       "      <th>4</th>\n",
       "      <td>48.0</td>\n",
       "      <td>1</td>\n",
       "      <td>156.0</td>\n",
       "      <td>56.0</td>\n",
       "      <td>100.0</td>\n",
       "      <td>60.0</td>\n",
       "      <td>1</td>\n",
       "      <td>1</td>\n",
       "      <td>0</td>\n",
       "      <td>0</td>\n",
       "      <td>0</td>\n",
       "      <td>0</td>\n",
       "    </tr>\n",
       "  </tbody>\n",
       "</table>\n",
       "</div>"
      ],
      "text/plain": [
       "    age  gender  height  weight  ap_hi  ap_lo  cholesterol  gluc  smoke  alco  \\\n",
       "0  50.0       2   168.0    62.0  110.0   80.0            1     1      0     0   \n",
       "1  55.0       1   156.0    85.0  140.0   90.0            3     1      0     0   \n",
       "2  52.0       1   165.0    64.0  130.0   70.0            3     1      0     0   \n",
       "3  48.0       2   169.0    82.0  150.0  100.0            1     1      0     0   \n",
       "4  48.0       1   156.0    56.0  100.0   60.0            1     1      0     0   \n",
       "\n",
       "   active  cardio  \n",
       "0       1       0  \n",
       "1       1       1  \n",
       "2       0       1  \n",
       "3       1       1  \n",
       "4       0       0  "
      ]
     },
     "execution_count": 30,
     "metadata": {},
     "output_type": "execute_result"
    }
   ],
   "source": [
    "df.head()"
   ]
  },
  {
   "cell_type": "code",
   "execution_count": 31,
   "metadata": {},
   "outputs": [
    {
     "name": "stdout",
     "output_type": "stream",
     "text": [
      "<class 'pandas.core.frame.DataFrame'>\n",
      "Int64Index: 66184 entries, 0 to 69999\n",
      "Data columns (total 12 columns):\n",
      " #   Column       Non-Null Count  Dtype  \n",
      "---  ------       --------------  -----  \n",
      " 0   age          66184 non-null  float64\n",
      " 1   gender       66184 non-null  int64  \n",
      " 2   height       66184 non-null  float64\n",
      " 3   weight       66184 non-null  float64\n",
      " 4   ap_hi        66184 non-null  float64\n",
      " 5   ap_lo        66184 non-null  float64\n",
      " 6   cholesterol  66184 non-null  int64  \n",
      " 7   gluc         66184 non-null  int64  \n",
      " 8   smoke        66184 non-null  int64  \n",
      " 9   alco         66184 non-null  int64  \n",
      " 10  active       66184 non-null  int64  \n",
      " 11  cardio       66184 non-null  int64  \n",
      "dtypes: float64(5), int64(7)\n",
      "memory usage: 6.6 MB\n"
     ]
    }
   ],
   "source": [
    "df.info()"
   ]
  },
  {
   "cell_type": "markdown",
   "metadata": {},
   "source": [
    "### Feature Engineering\n"
   ]
  },
  {
   "cell_type": "code",
   "execution_count": 32,
   "metadata": {},
   "outputs": [],
   "source": [
    "# For age colummn\n",
    "\n",
    "df.loc[(df[\"age\"] < 18), \"new_age\"] = \"Young\"\n",
    "df.loc[(df[\"age\"] > 18) & (df[\"age\"] < 56), \"new_age\"] = \"Mature\"\n",
    "df.loc[(df[\"age\"] >= 56), \"new_age\"] = \"Old\""
   ]
  },
  {
   "cell_type": "markdown",
   "metadata": {},
   "source": [
    "### BMI = weight(kg)/height(m2)\n",
    "We will create a new feature - Body Mass Index (BMI):\n",
    "\n",
    "\n"
   ]
  },
  {
   "cell_type": "code",
   "execution_count": 33,
   "metadata": {},
   "outputs": [],
   "source": [
    "\n",
    "###Calculating for body mass index\n",
    "cols1 = df[\"weight\"]\n",
    "cols2 = df[\"height\"] / 100"
   ]
  },
  {
   "cell_type": "code",
   "execution_count": 34,
   "metadata": {},
   "outputs": [],
   "source": [
    "####Body mass index\n",
    "df[\"bmi\"] = (cols1) / (cols2)**2"
   ]
  },
  {
   "cell_type": "code",
   "execution_count": 35,
   "metadata": {},
   "outputs": [
    {
     "data": {
      "text/html": [
       "<div>\n",
       "<style scoped>\n",
       "    .dataframe tbody tr th:only-of-type {\n",
       "        vertical-align: middle;\n",
       "    }\n",
       "\n",
       "    .dataframe tbody tr th {\n",
       "        vertical-align: top;\n",
       "    }\n",
       "\n",
       "    .dataframe thead th {\n",
       "        text-align: right;\n",
       "    }\n",
       "</style>\n",
       "<table border=\"1\" class=\"dataframe\">\n",
       "  <thead>\n",
       "    <tr style=\"text-align: right;\">\n",
       "      <th></th>\n",
       "      <th>age</th>\n",
       "      <th>gender</th>\n",
       "      <th>height</th>\n",
       "      <th>weight</th>\n",
       "      <th>ap_hi</th>\n",
       "      <th>ap_lo</th>\n",
       "      <th>cholesterol</th>\n",
       "      <th>gluc</th>\n",
       "      <th>smoke</th>\n",
       "      <th>alco</th>\n",
       "      <th>active</th>\n",
       "      <th>cardio</th>\n",
       "      <th>new_age</th>\n",
       "      <th>bmi</th>\n",
       "    </tr>\n",
       "  </thead>\n",
       "  <tbody>\n",
       "    <tr>\n",
       "      <th>0</th>\n",
       "      <td>50.0</td>\n",
       "      <td>2</td>\n",
       "      <td>168.0</td>\n",
       "      <td>62.0</td>\n",
       "      <td>110.0</td>\n",
       "      <td>80.0</td>\n",
       "      <td>1</td>\n",
       "      <td>1</td>\n",
       "      <td>0</td>\n",
       "      <td>0</td>\n",
       "      <td>1</td>\n",
       "      <td>0</td>\n",
       "      <td>Mature</td>\n",
       "      <td>21.967120</td>\n",
       "    </tr>\n",
       "    <tr>\n",
       "      <th>1</th>\n",
       "      <td>55.0</td>\n",
       "      <td>1</td>\n",
       "      <td>156.0</td>\n",
       "      <td>85.0</td>\n",
       "      <td>140.0</td>\n",
       "      <td>90.0</td>\n",
       "      <td>3</td>\n",
       "      <td>1</td>\n",
       "      <td>0</td>\n",
       "      <td>0</td>\n",
       "      <td>1</td>\n",
       "      <td>1</td>\n",
       "      <td>Mature</td>\n",
       "      <td>34.927679</td>\n",
       "    </tr>\n",
       "    <tr>\n",
       "      <th>2</th>\n",
       "      <td>52.0</td>\n",
       "      <td>1</td>\n",
       "      <td>165.0</td>\n",
       "      <td>64.0</td>\n",
       "      <td>130.0</td>\n",
       "      <td>70.0</td>\n",
       "      <td>3</td>\n",
       "      <td>1</td>\n",
       "      <td>0</td>\n",
       "      <td>0</td>\n",
       "      <td>0</td>\n",
       "      <td>1</td>\n",
       "      <td>Mature</td>\n",
       "      <td>23.507805</td>\n",
       "    </tr>\n",
       "    <tr>\n",
       "      <th>3</th>\n",
       "      <td>48.0</td>\n",
       "      <td>2</td>\n",
       "      <td>169.0</td>\n",
       "      <td>82.0</td>\n",
       "      <td>150.0</td>\n",
       "      <td>100.0</td>\n",
       "      <td>1</td>\n",
       "      <td>1</td>\n",
       "      <td>0</td>\n",
       "      <td>0</td>\n",
       "      <td>1</td>\n",
       "      <td>1</td>\n",
       "      <td>Mature</td>\n",
       "      <td>28.710479</td>\n",
       "    </tr>\n",
       "    <tr>\n",
       "      <th>4</th>\n",
       "      <td>48.0</td>\n",
       "      <td>1</td>\n",
       "      <td>156.0</td>\n",
       "      <td>56.0</td>\n",
       "      <td>100.0</td>\n",
       "      <td>60.0</td>\n",
       "      <td>1</td>\n",
       "      <td>1</td>\n",
       "      <td>0</td>\n",
       "      <td>0</td>\n",
       "      <td>0</td>\n",
       "      <td>0</td>\n",
       "      <td>Mature</td>\n",
       "      <td>23.011177</td>\n",
       "    </tr>\n",
       "  </tbody>\n",
       "</table>\n",
       "</div>"
      ],
      "text/plain": [
       "    age  gender  height  weight  ap_hi  ap_lo  cholesterol  gluc  smoke  alco  \\\n",
       "0  50.0       2   168.0    62.0  110.0   80.0            1     1      0     0   \n",
       "1  55.0       1   156.0    85.0  140.0   90.0            3     1      0     0   \n",
       "2  52.0       1   165.0    64.0  130.0   70.0            3     1      0     0   \n",
       "3  48.0       2   169.0    82.0  150.0  100.0            1     1      0     0   \n",
       "4  48.0       1   156.0    56.0  100.0   60.0            1     1      0     0   \n",
       "\n",
       "   active  cardio new_age        bmi  \n",
       "0       1       0  Mature  21.967120  \n",
       "1       1       1  Mature  34.927679  \n",
       "2       0       1  Mature  23.507805  \n",
       "3       1       1  Mature  28.710479  \n",
       "4       0       0  Mature  23.011177  "
      ]
     },
     "execution_count": 35,
     "metadata": {},
     "output_type": "execute_result"
    }
   ],
   "source": [
    "df.head()"
   ]
  },
  {
   "cell_type": "code",
   "execution_count": 36,
   "metadata": {},
   "outputs": [],
   "source": [
    "####Creating a column to check for obesity\n",
    "\n",
    "df.loc[(df[\"bmi\"] < 18.5), \"new_bmi\"] = \"under\"\n",
    "df.loc[(df[\"bmi\"] >= 18.5) & (df[\"bmi\"] <= 24.99) ,\"new_bmi\"] = \"healthy\"\n",
    "df.loc[(df[\"bmi\"] >= 25) & (df[\"bmi\"] <= 29.99) ,\"new_bmi\"]= \"over\"\n",
    "df.loc[(df[\"bmi\"] >= 30), \"new_bmi\"] = \"obese\""
   ]
  },
  {
   "cell_type": "code",
   "execution_count": 37,
   "metadata": {},
   "outputs": [
    {
     "data": {
      "text/html": [
       "<div>\n",
       "<style scoped>\n",
       "    .dataframe tbody tr th:only-of-type {\n",
       "        vertical-align: middle;\n",
       "    }\n",
       "\n",
       "    .dataframe tbody tr th {\n",
       "        vertical-align: top;\n",
       "    }\n",
       "\n",
       "    .dataframe thead th {\n",
       "        text-align: right;\n",
       "    }\n",
       "</style>\n",
       "<table border=\"1\" class=\"dataframe\">\n",
       "  <thead>\n",
       "    <tr style=\"text-align: right;\">\n",
       "      <th></th>\n",
       "      <th>age</th>\n",
       "      <th>gender</th>\n",
       "      <th>height</th>\n",
       "      <th>weight</th>\n",
       "      <th>ap_hi</th>\n",
       "      <th>ap_lo</th>\n",
       "      <th>cholesterol</th>\n",
       "      <th>gluc</th>\n",
       "      <th>smoke</th>\n",
       "      <th>alco</th>\n",
       "      <th>active</th>\n",
       "      <th>cardio</th>\n",
       "      <th>new_age</th>\n",
       "      <th>bmi</th>\n",
       "      <th>new_bmi</th>\n",
       "    </tr>\n",
       "  </thead>\n",
       "  <tbody>\n",
       "    <tr>\n",
       "      <th>0</th>\n",
       "      <td>50.0</td>\n",
       "      <td>2</td>\n",
       "      <td>168.0</td>\n",
       "      <td>62.0</td>\n",
       "      <td>110.0</td>\n",
       "      <td>80.0</td>\n",
       "      <td>1</td>\n",
       "      <td>1</td>\n",
       "      <td>0</td>\n",
       "      <td>0</td>\n",
       "      <td>1</td>\n",
       "      <td>0</td>\n",
       "      <td>Mature</td>\n",
       "      <td>21.967120</td>\n",
       "      <td>healthy</td>\n",
       "    </tr>\n",
       "    <tr>\n",
       "      <th>1</th>\n",
       "      <td>55.0</td>\n",
       "      <td>1</td>\n",
       "      <td>156.0</td>\n",
       "      <td>85.0</td>\n",
       "      <td>140.0</td>\n",
       "      <td>90.0</td>\n",
       "      <td>3</td>\n",
       "      <td>1</td>\n",
       "      <td>0</td>\n",
       "      <td>0</td>\n",
       "      <td>1</td>\n",
       "      <td>1</td>\n",
       "      <td>Mature</td>\n",
       "      <td>34.927679</td>\n",
       "      <td>obese</td>\n",
       "    </tr>\n",
       "    <tr>\n",
       "      <th>2</th>\n",
       "      <td>52.0</td>\n",
       "      <td>1</td>\n",
       "      <td>165.0</td>\n",
       "      <td>64.0</td>\n",
       "      <td>130.0</td>\n",
       "      <td>70.0</td>\n",
       "      <td>3</td>\n",
       "      <td>1</td>\n",
       "      <td>0</td>\n",
       "      <td>0</td>\n",
       "      <td>0</td>\n",
       "      <td>1</td>\n",
       "      <td>Mature</td>\n",
       "      <td>23.507805</td>\n",
       "      <td>healthy</td>\n",
       "    </tr>\n",
       "    <tr>\n",
       "      <th>3</th>\n",
       "      <td>48.0</td>\n",
       "      <td>2</td>\n",
       "      <td>169.0</td>\n",
       "      <td>82.0</td>\n",
       "      <td>150.0</td>\n",
       "      <td>100.0</td>\n",
       "      <td>1</td>\n",
       "      <td>1</td>\n",
       "      <td>0</td>\n",
       "      <td>0</td>\n",
       "      <td>1</td>\n",
       "      <td>1</td>\n",
       "      <td>Mature</td>\n",
       "      <td>28.710479</td>\n",
       "      <td>over</td>\n",
       "    </tr>\n",
       "    <tr>\n",
       "      <th>4</th>\n",
       "      <td>48.0</td>\n",
       "      <td>1</td>\n",
       "      <td>156.0</td>\n",
       "      <td>56.0</td>\n",
       "      <td>100.0</td>\n",
       "      <td>60.0</td>\n",
       "      <td>1</td>\n",
       "      <td>1</td>\n",
       "      <td>0</td>\n",
       "      <td>0</td>\n",
       "      <td>0</td>\n",
       "      <td>0</td>\n",
       "      <td>Mature</td>\n",
       "      <td>23.011177</td>\n",
       "      <td>healthy</td>\n",
       "    </tr>\n",
       "  </tbody>\n",
       "</table>\n",
       "</div>"
      ],
      "text/plain": [
       "    age  gender  height  weight  ap_hi  ap_lo  cholesterol  gluc  smoke  alco  \\\n",
       "0  50.0       2   168.0    62.0  110.0   80.0            1     1      0     0   \n",
       "1  55.0       1   156.0    85.0  140.0   90.0            3     1      0     0   \n",
       "2  52.0       1   165.0    64.0  130.0   70.0            3     1      0     0   \n",
       "3  48.0       2   169.0    82.0  150.0  100.0            1     1      0     0   \n",
       "4  48.0       1   156.0    56.0  100.0   60.0            1     1      0     0   \n",
       "\n",
       "   active  cardio new_age        bmi  new_bmi  \n",
       "0       1       0  Mature  21.967120  healthy  \n",
       "1       1       1  Mature  34.927679    obese  \n",
       "2       0       1  Mature  23.507805  healthy  \n",
       "3       1       1  Mature  28.710479     over  \n",
       "4       0       0  Mature  23.011177  healthy  "
      ]
     },
     "execution_count": 37,
     "metadata": {},
     "output_type": "execute_result"
    }
   ],
   "source": [
    "df.head()"
   ]
  },
  {
   "cell_type": "code",
   "execution_count": 38,
   "metadata": {},
   "outputs": [
    {
     "data": {
      "text/plain": [
       "210.0"
      ]
     },
     "execution_count": 38,
     "metadata": {},
     "output_type": "execute_result"
    }
   ],
   "source": [
    "df[\"ap_hi\"].max()"
   ]
  },
  {
   "cell_type": "code",
   "execution_count": 39,
   "metadata": {},
   "outputs": [],
   "source": [
    "####Creating a column to check for blood pressure\n",
    "\n",
    "df.loc[(df[\"ap_lo\"])<=89, \"BLOOD_PRESSURE\"] = \"normal\"\n",
    "df.loc[(df[\"ap_lo\"])>=90, \"BLOOD_PRESSURE\"] = \"hyper\"\n",
    "df.loc[(df[\"ap_hi\"])<=120, \"BLOOD_PRESSURE\"] = \"normal\"\n",
    "df.loc[(df[\"ap_hi\"])>120, \"BLOOD_PRESSURE\"] = \"normal\"\n",
    "df.loc[(df[\"ap_hi\"])>=140, \"BLOOD_PRESSURE\"] = \"hyper\""
   ]
  },
  {
   "cell_type": "markdown",
   "metadata": {},
   "source": [
    "If Diastolic blood pressure(ap_lo) is less or equal to 89 then is normal, if is greater of equal to 90 then is hyper\n",
    "If systolic blood pressure is (ap_hi) is less or equal to 120 then is normal, if is greater than 120 is normal but if is higher than 140 then it can lead to hypertension\n"
   ]
  },
  {
   "cell_type": "code",
   "execution_count": 40,
   "metadata": {},
   "outputs": [
    {
     "data": {
      "text/html": [
       "<div>\n",
       "<style scoped>\n",
       "    .dataframe tbody tr th:only-of-type {\n",
       "        vertical-align: middle;\n",
       "    }\n",
       "\n",
       "    .dataframe tbody tr th {\n",
       "        vertical-align: top;\n",
       "    }\n",
       "\n",
       "    .dataframe thead th {\n",
       "        text-align: right;\n",
       "    }\n",
       "</style>\n",
       "<table border=\"1\" class=\"dataframe\">\n",
       "  <thead>\n",
       "    <tr style=\"text-align: right;\">\n",
       "      <th></th>\n",
       "      <th>age</th>\n",
       "      <th>gender</th>\n",
       "      <th>height</th>\n",
       "      <th>weight</th>\n",
       "      <th>ap_hi</th>\n",
       "      <th>ap_lo</th>\n",
       "      <th>cholesterol</th>\n",
       "      <th>gluc</th>\n",
       "      <th>smoke</th>\n",
       "      <th>alco</th>\n",
       "      <th>active</th>\n",
       "      <th>cardio</th>\n",
       "      <th>new_age</th>\n",
       "      <th>bmi</th>\n",
       "      <th>new_bmi</th>\n",
       "      <th>BLOOD_PRESSURE</th>\n",
       "    </tr>\n",
       "  </thead>\n",
       "  <tbody>\n",
       "    <tr>\n",
       "      <th>0</th>\n",
       "      <td>50.0</td>\n",
       "      <td>2</td>\n",
       "      <td>168.0</td>\n",
       "      <td>62.0</td>\n",
       "      <td>110.0</td>\n",
       "      <td>80.0</td>\n",
       "      <td>1</td>\n",
       "      <td>1</td>\n",
       "      <td>0</td>\n",
       "      <td>0</td>\n",
       "      <td>1</td>\n",
       "      <td>0</td>\n",
       "      <td>Mature</td>\n",
       "      <td>21.967120</td>\n",
       "      <td>healthy</td>\n",
       "      <td>normal</td>\n",
       "    </tr>\n",
       "    <tr>\n",
       "      <th>1</th>\n",
       "      <td>55.0</td>\n",
       "      <td>1</td>\n",
       "      <td>156.0</td>\n",
       "      <td>85.0</td>\n",
       "      <td>140.0</td>\n",
       "      <td>90.0</td>\n",
       "      <td>3</td>\n",
       "      <td>1</td>\n",
       "      <td>0</td>\n",
       "      <td>0</td>\n",
       "      <td>1</td>\n",
       "      <td>1</td>\n",
       "      <td>Mature</td>\n",
       "      <td>34.927679</td>\n",
       "      <td>obese</td>\n",
       "      <td>hyper</td>\n",
       "    </tr>\n",
       "    <tr>\n",
       "      <th>2</th>\n",
       "      <td>52.0</td>\n",
       "      <td>1</td>\n",
       "      <td>165.0</td>\n",
       "      <td>64.0</td>\n",
       "      <td>130.0</td>\n",
       "      <td>70.0</td>\n",
       "      <td>3</td>\n",
       "      <td>1</td>\n",
       "      <td>0</td>\n",
       "      <td>0</td>\n",
       "      <td>0</td>\n",
       "      <td>1</td>\n",
       "      <td>Mature</td>\n",
       "      <td>23.507805</td>\n",
       "      <td>healthy</td>\n",
       "      <td>normal</td>\n",
       "    </tr>\n",
       "    <tr>\n",
       "      <th>3</th>\n",
       "      <td>48.0</td>\n",
       "      <td>2</td>\n",
       "      <td>169.0</td>\n",
       "      <td>82.0</td>\n",
       "      <td>150.0</td>\n",
       "      <td>100.0</td>\n",
       "      <td>1</td>\n",
       "      <td>1</td>\n",
       "      <td>0</td>\n",
       "      <td>0</td>\n",
       "      <td>1</td>\n",
       "      <td>1</td>\n",
       "      <td>Mature</td>\n",
       "      <td>28.710479</td>\n",
       "      <td>over</td>\n",
       "      <td>hyper</td>\n",
       "    </tr>\n",
       "    <tr>\n",
       "      <th>4</th>\n",
       "      <td>48.0</td>\n",
       "      <td>1</td>\n",
       "      <td>156.0</td>\n",
       "      <td>56.0</td>\n",
       "      <td>100.0</td>\n",
       "      <td>60.0</td>\n",
       "      <td>1</td>\n",
       "      <td>1</td>\n",
       "      <td>0</td>\n",
       "      <td>0</td>\n",
       "      <td>0</td>\n",
       "      <td>0</td>\n",
       "      <td>Mature</td>\n",
       "      <td>23.011177</td>\n",
       "      <td>healthy</td>\n",
       "      <td>normal</td>\n",
       "    </tr>\n",
       "  </tbody>\n",
       "</table>\n",
       "</div>"
      ],
      "text/plain": [
       "    age  gender  height  weight  ap_hi  ap_lo  cholesterol  gluc  smoke  alco  \\\n",
       "0  50.0       2   168.0    62.0  110.0   80.0            1     1      0     0   \n",
       "1  55.0       1   156.0    85.0  140.0   90.0            3     1      0     0   \n",
       "2  52.0       1   165.0    64.0  130.0   70.0            3     1      0     0   \n",
       "3  48.0       2   169.0    82.0  150.0  100.0            1     1      0     0   \n",
       "4  48.0       1   156.0    56.0  100.0   60.0            1     1      0     0   \n",
       "\n",
       "   active  cardio new_age        bmi  new_bmi BLOOD_PRESSURE  \n",
       "0       1       0  Mature  21.967120  healthy         normal  \n",
       "1       1       1  Mature  34.927679    obese          hyper  \n",
       "2       0       1  Mature  23.507805  healthy         normal  \n",
       "3       1       1  Mature  28.710479     over          hyper  \n",
       "4       0       0  Mature  23.011177  healthy         normal  "
      ]
     },
     "execution_count": 40,
     "metadata": {},
     "output_type": "execute_result"
    }
   ],
   "source": [
    "df.head()"
   ]
  },
  {
   "cell_type": "code",
   "execution_count": 41,
   "metadata": {},
   "outputs": [
    {
     "data": {
      "text/plain": [
       "age\n",
       "30.0    0.000000\n",
       "39.0    0.223587\n",
       "40.0    0.245656\n",
       "41.0    0.276000\n",
       "42.0    0.307661\n",
       "43.0    0.390922\n",
       "44.0    0.368653\n",
       "45.0    0.387534\n",
       "46.0    0.415450\n",
       "47.0    0.469553\n",
       "48.0    0.482442\n",
       "49.0    0.454810\n",
       "50.0    0.432858\n",
       "51.0    0.449074\n",
       "52.0    0.490347\n",
       "53.0    0.483013\n",
       "54.0    0.515556\n",
       "55.0    0.551370\n",
       "56.0    0.560014\n",
       "57.0    0.556028\n",
       "58.0    0.578336\n",
       "59.0    0.573933\n",
       "60.0    0.611598\n",
       "61.0    0.651163\n",
       "62.0    0.677649\n",
       "63.0    0.718408\n",
       "64.0    0.716754\n",
       "65.0    0.683908\n",
       "Name: cardio, dtype: float64"
      ]
     },
     "execution_count": 41,
     "metadata": {},
     "output_type": "execute_result"
    }
   ],
   "source": [
    "df.groupby('age')['cardio'].mean()\n",
    "\n"
   ]
  },
  {
   "cell_type": "markdown",
   "metadata": {},
   "source": [
    "The higher the age the higher the likelehood of getting heart failure"
   ]
  },
  {
   "cell_type": "code",
   "execution_count": 42,
   "metadata": {},
   "outputs": [
    {
     "data": {
      "text/plain": [
       "smoke\n",
       "0    0.517404\n",
       "1    0.476547\n",
       "Name: cardio, dtype: float64"
      ]
     },
     "execution_count": 42,
     "metadata": {},
     "output_type": "execute_result"
    }
   ],
   "source": [
    "df.groupby(\"smoke\")[\"cardio\"].mean()"
   ]
  },
  {
   "cell_type": "code",
   "execution_count": 43,
   "metadata": {},
   "outputs": [],
   "source": [
    "####We will then save our csv file and perform PCA with it in R \n",
    "\n",
    "df.to_csv(\"cardio1.csv\", index = False)"
   ]
  },
  {
   "cell_type": "markdown",
   "metadata": {},
   "source": [
    "### Data Transformation & Train-Test Splitting"
   ]
  },
  {
   "cell_type": "markdown",
   "metadata": {},
   "source": [
    "Label encoder can be used to normalize labels. It can also be used to transform non-numerical labels to numerical labels"
   ]
  },
  {
   "cell_type": "code",
   "execution_count": 44,
   "metadata": {},
   "outputs": [],
   "source": [
    "##### Using the label encoder for data types object and unique values equal to 2\n",
    "# label encoder\n",
    "def label_encoder(dataframe, binary_col):\n",
    "    labelencoder = LabelEncoder()\n",
    "    dataframe[binary_col] = labelencoder.fit_transform(dataframe[binary_col].astype(str))\n",
    "    return dataframe\n",
    "\n",
    "binary_cols = [col for col in df.columns if df[col].dtypes == \"O\"\n",
    "               and len(df[col].unique()) == 2]\n",
    "\n",
    "for col in df.columns:\n",
    "    label_encoder(df, col)"
   ]
  },
  {
   "cell_type": "markdown",
   "metadata": {},
   "source": [
    "One hot encoding is one method of converting data to prepare it for an algorithm in order to get a better prediction"
   ]
  },
  {
   "cell_type": "code",
   "execution_count": 45,
   "metadata": {},
   "outputs": [
    {
     "data": {
      "text/html": [
       "<div>\n",
       "<style scoped>\n",
       "    .dataframe tbody tr th:only-of-type {\n",
       "        vertical-align: middle;\n",
       "    }\n",
       "\n",
       "    .dataframe tbody tr th {\n",
       "        vertical-align: top;\n",
       "    }\n",
       "\n",
       "    .dataframe thead th {\n",
       "        text-align: right;\n",
       "    }\n",
       "</style>\n",
       "<table border=\"1\" class=\"dataframe\">\n",
       "  <thead>\n",
       "    <tr style=\"text-align: right;\">\n",
       "      <th></th>\n",
       "      <th>age</th>\n",
       "      <th>gender</th>\n",
       "      <th>height</th>\n",
       "      <th>weight</th>\n",
       "      <th>ap_hi</th>\n",
       "      <th>ap_lo</th>\n",
       "      <th>smoke</th>\n",
       "      <th>alco</th>\n",
       "      <th>active</th>\n",
       "      <th>cardio</th>\n",
       "      <th>...</th>\n",
       "      <th>bmi</th>\n",
       "      <th>BLOOD_PRESSURE</th>\n",
       "      <th>cholesterol_1</th>\n",
       "      <th>cholesterol_2</th>\n",
       "      <th>gluc_1</th>\n",
       "      <th>gluc_2</th>\n",
       "      <th>new_bmi_1</th>\n",
       "      <th>new_bmi_2</th>\n",
       "      <th>new_bmi_3</th>\n",
       "      <th>new_bmi_4</th>\n",
       "    </tr>\n",
       "  </thead>\n",
       "  <tbody>\n",
       "    <tr>\n",
       "      <th>0</th>\n",
       "      <td>12</td>\n",
       "      <td>1</td>\n",
       "      <td>41</td>\n",
       "      <td>130</td>\n",
       "      <td>10</td>\n",
       "      <td>51</td>\n",
       "      <td>0</td>\n",
       "      <td>0</td>\n",
       "      <td>1</td>\n",
       "      <td>0</td>\n",
       "      <td>...</td>\n",
       "      <td>705</td>\n",
       "      <td>1</td>\n",
       "      <td>0</td>\n",
       "      <td>0</td>\n",
       "      <td>0</td>\n",
       "      <td>0</td>\n",
       "      <td>0</td>\n",
       "      <td>0</td>\n",
       "      <td>0</td>\n",
       "      <td>0</td>\n",
       "    </tr>\n",
       "    <tr>\n",
       "      <th>1</th>\n",
       "      <td>17</td>\n",
       "      <td>0</td>\n",
       "      <td>29</td>\n",
       "      <td>228</td>\n",
       "      <td>40</td>\n",
       "      <td>61</td>\n",
       "      <td>0</td>\n",
       "      <td>0</td>\n",
       "      <td>1</td>\n",
       "      <td>1</td>\n",
       "      <td>...</td>\n",
       "      <td>2528</td>\n",
       "      <td>0</td>\n",
       "      <td>0</td>\n",
       "      <td>1</td>\n",
       "      <td>0</td>\n",
       "      <td>0</td>\n",
       "      <td>0</td>\n",
       "      <td>1</td>\n",
       "      <td>0</td>\n",
       "      <td>0</td>\n",
       "    </tr>\n",
       "    <tr>\n",
       "      <th>2</th>\n",
       "      <td>14</td>\n",
       "      <td>0</td>\n",
       "      <td>38</td>\n",
       "      <td>140</td>\n",
       "      <td>30</td>\n",
       "      <td>41</td>\n",
       "      <td>0</td>\n",
       "      <td>0</td>\n",
       "      <td>0</td>\n",
       "      <td>1</td>\n",
       "      <td>...</td>\n",
       "      <td>927</td>\n",
       "      <td>1</td>\n",
       "      <td>0</td>\n",
       "      <td>1</td>\n",
       "      <td>0</td>\n",
       "      <td>0</td>\n",
       "      <td>0</td>\n",
       "      <td>0</td>\n",
       "      <td>0</td>\n",
       "      <td>0</td>\n",
       "    </tr>\n",
       "    <tr>\n",
       "      <th>3</th>\n",
       "      <td>10</td>\n",
       "      <td>1</td>\n",
       "      <td>42</td>\n",
       "      <td>212</td>\n",
       "      <td>50</td>\n",
       "      <td>0</td>\n",
       "      <td>0</td>\n",
       "      <td>0</td>\n",
       "      <td>1</td>\n",
       "      <td>1</td>\n",
       "      <td>...</td>\n",
       "      <td>1716</td>\n",
       "      <td>0</td>\n",
       "      <td>0</td>\n",
       "      <td>0</td>\n",
       "      <td>0</td>\n",
       "      <td>0</td>\n",
       "      <td>0</td>\n",
       "      <td>0</td>\n",
       "      <td>1</td>\n",
       "      <td>0</td>\n",
       "    </tr>\n",
       "    <tr>\n",
       "      <th>4</th>\n",
       "      <td>10</td>\n",
       "      <td>0</td>\n",
       "      <td>29</td>\n",
       "      <td>107</td>\n",
       "      <td>0</td>\n",
       "      <td>31</td>\n",
       "      <td>0</td>\n",
       "      <td>0</td>\n",
       "      <td>0</td>\n",
       "      <td>0</td>\n",
       "      <td>...</td>\n",
       "      <td>854</td>\n",
       "      <td>1</td>\n",
       "      <td>0</td>\n",
       "      <td>0</td>\n",
       "      <td>0</td>\n",
       "      <td>0</td>\n",
       "      <td>0</td>\n",
       "      <td>0</td>\n",
       "      <td>0</td>\n",
       "      <td>0</td>\n",
       "    </tr>\n",
       "  </tbody>\n",
       "</table>\n",
       "<p>5 rows × 21 columns</p>\n",
       "</div>"
      ],
      "text/plain": [
       "   age  gender  height  weight  ap_hi  ap_lo  smoke  alco  active  cardio  \\\n",
       "0   12       1      41     130     10     51      0     0       1       0   \n",
       "1   17       0      29     228     40     61      0     0       1       1   \n",
       "2   14       0      38     140     30     41      0     0       0       1   \n",
       "3   10       1      42     212     50      0      0     0       1       1   \n",
       "4   10       0      29     107      0     31      0     0       0       0   \n",
       "\n",
       "   ...   bmi  BLOOD_PRESSURE  cholesterol_1  cholesterol_2  gluc_1  gluc_2  \\\n",
       "0  ...   705               1              0              0       0       0   \n",
       "1  ...  2528               0              0              1       0       0   \n",
       "2  ...   927               1              0              1       0       0   \n",
       "3  ...  1716               0              0              0       0       0   \n",
       "4  ...   854               1              0              0       0       0   \n",
       "\n",
       "   new_bmi_1  new_bmi_2  new_bmi_3  new_bmi_4  \n",
       "0          0          0          0          0  \n",
       "1          0          1          0          0  \n",
       "2          0          0          0          0  \n",
       "3          0          0          1          0  \n",
       "4          0          0          0          0  \n",
       "\n",
       "[5 rows x 21 columns]"
      ]
     },
     "execution_count": 45,
     "metadata": {},
     "output_type": "execute_result"
    }
   ],
   "source": [
    "#####Using one-hot-encoder for categorical cols\n",
    "\n",
    "def one_hot_encoder(dataframe, categorical_cols, drop_first=False):\n",
    "    dataframe = pd.get_dummies(dataframe, columns=categorical_cols, drop_first=drop_first)\n",
    "    return dataframe\n",
    "\n",
    "ohe_cols = [col for col in df.columns if 10 >= len(df[col].unique()) > 2]\n",
    "\n",
    "one_hot_encoder(df, ohe_cols, drop_first=True).head()"
   ]
  },
  {
   "cell_type": "code",
   "execution_count": 46,
   "metadata": {},
   "outputs": [],
   "source": [
    "#scaling the data\n",
    "#Robust Scaler is used to robust the outliers\n",
    "\n",
    "rs = RobustScaler()\n",
    "df[num_cols] = rs.fit_transform(df[num_cols])"
   ]
  },
  {
   "cell_type": "code",
   "execution_count": 47,
   "metadata": {},
   "outputs": [],
   "source": [
    "###Define the target variable and features, Split the data by train and test. Test size is 20% and train size is 80%\n",
    "\n",
    "y = df[\"cardio\"]\n",
    "X = df.drop([\"cardio\"], axis=1)\n",
    "\n",
    "X_train, X_test, y_train, y_test = train_test_split(X,\n",
    "                                                    y,\n",
    "                                                    test_size=0.20, random_state=1)"
   ]
  },
  {
   "cell_type": "markdown",
   "metadata": {},
   "source": [
    "### Machine learning techniques\n",
    "### Decision Tree\n"
   ]
  },
  {
   "cell_type": "code",
   "execution_count": 48,
   "metadata": {},
   "outputs": [
    {
     "name": "stdout",
     "output_type": "stream",
     "text": [
      "Fitting 5 folds for each of 30 candidates, totalling 150 fits\n"
     ]
    },
    {
     "name": "stderr",
     "output_type": "stream",
     "text": [
      "[Parallel(n_jobs=-1)]: Using backend LokyBackend with 8 concurrent workers.\n",
      "[Parallel(n_jobs=-1)]: Done  16 tasks      | elapsed:    5.3s\n",
      "[Parallel(n_jobs=-1)]: Done 112 tasks      | elapsed:   12.3s\n",
      "[Parallel(n_jobs=-1)]: Done 150 out of 150 | elapsed:   15.9s finished\n"
     ]
    },
    {
     "name": "stdout",
     "output_type": "stream",
     "text": [
      "Wall time: 16.5 s\n"
     ]
    }
   ],
   "source": [
    "%%time\n",
    "\n",
    "#####Building and tuning the model using Decision Tree\n",
    "\n",
    "# parameters candidates\n",
    "parameters = {'max_depth':range(2,32)}\n",
    "\n",
    "# fitting\n",
    "DecisionTree_GSCV = GridSearchCV(DecisionTreeClassifier(random_state=8017), \n",
    "                                 parameters, n_jobs=-1, verbose=3, return_train_score=True)\n",
    "DecisionTree_GSCV.fit(X_train, y_train)\n",
    "DecisionTree_model = DecisionTree_GSCV.best_estimator_"
   ]
  },
  {
   "cell_type": "code",
   "execution_count": 49,
   "metadata": {},
   "outputs": [
    {
     "data": {
      "image/png": "[encoded data removed]",
      "text/plain": [
       "<Figure size 792x576 with 1 Axes>"
      ]
     },
     "metadata": {
      "needs_background": "light"
     },
     "output_type": "display_data"
    }
   ],
   "source": [
    "# plot training & testing scores\n",
    "train_dt_scores = DecisionTree_GSCV.cv_results_['mean_train_score']\n",
    "test_dt_scores = DecisionTree_GSCV.cv_results_['mean_test_score']\n",
    "\n",
    "plt.plot(train_dt_scores, \"g.--\")\n",
    "plt.plot(test_dt_scores, \"g.-\")\n",
    "plt.ylim(0.4, 1.05)\n",
    "plt.xticks(range(30), range(2, 32))\n",
    "plt.legend([\"DT training score\", \"DT test score\"])\n",
    "plt.axvline(np.argmax(test_dt_scores), linestyle=\"dotted\", color=\"red\")\n",
    "plt.annotate(np.max(test_dt_scores).round(4), (np.argmax(test_dt_scores), np.max(test_dt_scores)), xycoords=\"data\",\n",
    "                 xytext=(50, 25), textcoords=\"offset pixels\", arrowprops=dict(facecolor=\"black\", shrink=0.1), fontsize=10,\n",
    "                 horizontalalignment=\"center\", verticalalignment=\"top\")\n",
    "plt.show()"
   ]
  },
  {
   "cell_type": "code",
   "execution_count": 50,
   "metadata": {},
   "outputs": [
    {
     "name": "stdout",
     "output_type": "stream",
     "text": [
      "{'ccp_alpha': 0.0, 'class_weight': None, 'criterion': 'gini', 'max_depth': 7, 'max_features': None, 'max_leaf_nodes': None, 'min_impurity_decrease': 0.0, 'min_impurity_split': None, 'min_samples_leaf': 1, 'min_samples_split': 2, 'min_weight_fraction_leaf': 0.0, 'presort': 'deprecated', 'random_state': 8017, 'splitter': 'best'}\n",
      "Training Score: 0.7331\n",
      "Testing Score: 0.7241\n"
     ]
    }
   ],
   "source": [
    "# accuracy scores\n",
    "print(DecisionTree_model.get_params())\n",
    "print(f\"Training Score: {round(DecisionTree_model.score(X_train, y_train),4)}\")\n",
    "print(f\"Testing Score: {round(DecisionTree_model.score(X_test, y_test),4)}\")"
   ]
  },
  {
   "cell_type": "code",
   "execution_count": 51,
   "metadata": {},
   "outputs": [
    {
     "data": {
      "text/html": [
       "<div>\n",
       "<style scoped>\n",
       "    .dataframe tbody tr th:only-of-type {\n",
       "        vertical-align: middle;\n",
       "    }\n",
       "\n",
       "    .dataframe tbody tr th {\n",
       "        vertical-align: top;\n",
       "    }\n",
       "\n",
       "    .dataframe thead th {\n",
       "        text-align: right;\n",
       "    }\n",
       "</style>\n",
       "<table border=\"1\" class=\"dataframe\">\n",
       "  <thead>\n",
       "    <tr style=\"text-align: right;\">\n",
       "      <th></th>\n",
       "      <th>feature importance</th>\n",
       "    </tr>\n",
       "  </thead>\n",
       "  <tbody>\n",
       "    <tr>\n",
       "      <th>BLOOD_PRESSURE</th>\n",
       "      <td>0.620187</td>\n",
       "    </tr>\n",
       "    <tr>\n",
       "      <th>age</th>\n",
       "      <td>0.115906</td>\n",
       "    </tr>\n",
       "    <tr>\n",
       "      <th>cholesterol</th>\n",
       "      <td>0.115312</td>\n",
       "    </tr>\n",
       "    <tr>\n",
       "      <th>ap_hi</th>\n",
       "      <td>0.099079</td>\n",
       "    </tr>\n",
       "    <tr>\n",
       "      <th>bmi</th>\n",
       "      <td>0.017713</td>\n",
       "    </tr>\n",
       "    <tr>\n",
       "      <th>gluc</th>\n",
       "      <td>0.009495</td>\n",
       "    </tr>\n",
       "    <tr>\n",
       "      <th>ap_lo</th>\n",
       "      <td>0.008468</td>\n",
       "    </tr>\n",
       "    <tr>\n",
       "      <th>height</th>\n",
       "      <td>0.005247</td>\n",
       "    </tr>\n",
       "    <tr>\n",
       "      <th>active</th>\n",
       "      <td>0.004024</td>\n",
       "    </tr>\n",
       "    <tr>\n",
       "      <th>weight</th>\n",
       "      <td>0.003159</td>\n",
       "    </tr>\n",
       "    <tr>\n",
       "      <th>gender</th>\n",
       "      <td>0.000639</td>\n",
       "    </tr>\n",
       "    <tr>\n",
       "      <th>new_bmi</th>\n",
       "      <td>0.000331</td>\n",
       "    </tr>\n",
       "    <tr>\n",
       "      <th>alco</th>\n",
       "      <td>0.000257</td>\n",
       "    </tr>\n",
       "    <tr>\n",
       "      <th>new_age</th>\n",
       "      <td>0.000183</td>\n",
       "    </tr>\n",
       "    <tr>\n",
       "      <th>smoke</th>\n",
       "      <td>0.000000</td>\n",
       "    </tr>\n",
       "  </tbody>\n",
       "</table>\n",
       "</div>"
      ],
      "text/plain": [
       "                feature importance\n",
       "BLOOD_PRESSURE            0.620187\n",
       "age                       0.115906\n",
       "cholesterol               0.115312\n",
       "ap_hi                     0.099079\n",
       "bmi                       0.017713\n",
       "gluc                      0.009495\n",
       "ap_lo                     0.008468\n",
       "height                    0.005247\n",
       "active                    0.004024\n",
       "weight                    0.003159\n",
       "gender                    0.000639\n",
       "new_bmi                   0.000331\n",
       "alco                      0.000257\n",
       "new_age                   0.000183\n",
       "smoke                     0.000000"
      ]
     },
     "metadata": {},
     "output_type": "display_data"
    }
   ],
   "source": [
    "# feature importances\n",
    "d = {'feature importance':list(DecisionTree_model.feature_importances_)}\n",
    "table = pd.DataFrame(d, index=X_train.columns)\n",
    "\n",
    "display(  table.sort_values('feature importance', ascending=False)  )"
   ]
  },
  {
   "cell_type": "markdown",
   "metadata": {},
   "source": [
    "Feature importance refers to methods for assigning a score to input features based on their usefulness in predicting a target variable.\n",
    "We can see that Blood pressure had 0.62, which had greater influence in the model building"
   ]
  },
  {
   "cell_type": "markdown",
   "metadata": {},
   "source": [
    "### Logistic Regression"
   ]
  },
  {
   "cell_type": "code",
   "execution_count": 52,
   "metadata": {},
   "outputs": [
    {
     "name": "stderr",
     "output_type": "stream",
     "text": [
      "C:\\Users\\spant\\anaconda3\\lib\\site-packages\\sklearn\\linear_model\\_logistic.py:762: ConvergenceWarning: lbfgs failed to converge (status=1):\n",
      "STOP: TOTAL NO. of ITERATIONS REACHED LIMIT.\n",
      "\n",
      "Increase the number of iterations (max_iter) or scale the data as shown in:\n",
      "    https://scikit-learn.org/stable/modules/preprocessing.html\n",
      "Please also refer to the documentation for alternative solver options:\n",
      "    https://scikit-learn.org/stable/modules/linear_model.html#logistic-regression\n",
      "  n_iter_i = _check_optimize_result(\n",
      "C:\\Users\\spant\\anaconda3\\lib\\site-packages\\sklearn\\linear_model\\_logistic.py:762: ConvergenceWarning: lbfgs failed to converge (status=1):\n",
      "STOP: TOTAL NO. of ITERATIONS REACHED LIMIT.\n",
      "\n",
      "Increase the number of iterations (max_iter) or scale the data as shown in:\n",
      "    https://scikit-learn.org/stable/modules/preprocessing.html\n",
      "Please also refer to the documentation for alternative solver options:\n",
      "    https://scikit-learn.org/stable/modules/linear_model.html#logistic-regression\n",
      "  n_iter_i = _check_optimize_result(\n",
      "C:\\Users\\spant\\anaconda3\\lib\\site-packages\\sklearn\\linear_model\\_logistic.py:762: ConvergenceWarning: lbfgs failed to converge (status=1):\n",
      "STOP: TOTAL NO. of ITERATIONS REACHED LIMIT.\n",
      "\n",
      "Increase the number of iterations (max_iter) or scale the data as shown in:\n",
      "    https://scikit-learn.org/stable/modules/preprocessing.html\n",
      "Please also refer to the documentation for alternative solver options:\n",
      "    https://scikit-learn.org/stable/modules/linear_model.html#logistic-regression\n",
      "  n_iter_i = _check_optimize_result(\n",
      "C:\\Users\\spant\\anaconda3\\lib\\site-packages\\sklearn\\linear_model\\_logistic.py:762: ConvergenceWarning: lbfgs failed to converge (status=1):\n",
      "STOP: TOTAL NO. of ITERATIONS REACHED LIMIT.\n",
      "\n",
      "Increase the number of iterations (max_iter) or scale the data as shown in:\n",
      "    https://scikit-learn.org/stable/modules/preprocessing.html\n",
      "Please also refer to the documentation for alternative solver options:\n",
      "    https://scikit-learn.org/stable/modules/linear_model.html#logistic-regression\n",
      "  n_iter_i = _check_optimize_result(\n"
     ]
    },
    {
     "name": "stdout",
     "output_type": "stream",
     "text": [
      "{'Cs': 50, 'class_weight': None, 'cv': 5, 'dual': False, 'fit_intercept': True, 'intercept_scaling': 1.0, 'l1_ratios': None, 'max_iter': 100, 'multi_class': 'auto', 'n_jobs': None, 'penalty': 'l2', 'random_state': 8017, 'refit': True, 'scoring': None, 'solver': 'lbfgs', 'tol': 0.0001, 'verbose': 0}\n",
      "Wall time: 10.8 s\n"
     ]
    }
   ],
   "source": [
    "%%time\n",
    "\n",
    "####Building and tuning Logistic Regression Model\n",
    "\n",
    "# fitting\n",
    "Logistic_model =  LogisticRegressionCV(Cs = 50, cv = 5, random_state=8017)\n",
    "Logistic_model.fit(X_train, y_train)\n",
    "print(Logistic_model.get_params())"
   ]
  },
  {
   "cell_type": "markdown",
   "metadata": {},
   "source": [
    "Regularization is any modification to a learning algorithm that is intended to minimise generalisation error.  In other words, by avoiding the algorithm from overfitting the training dataset, regularisation can be used to train models that generalize better on unseen data."
   ]
  },
  {
   "cell_type": "code",
   "execution_count": 53,
   "metadata": {},
   "outputs": [
    {
     "name": "stdout",
     "output_type": "stream",
     "text": [
      "Candidates of Regularization Parameter C:\n",
      "[1.00000000e-04 1.45634848e-04 2.12095089e-04 3.08884360e-04\n",
      " 4.49843267e-04 6.55128557e-04 9.54095476e-04 1.38949549e-03\n",
      " 2.02358965e-03 2.94705170e-03 4.29193426e-03 6.25055193e-03\n",
      " 9.10298178e-03 1.32571137e-02 1.93069773e-02 2.81176870e-02\n",
      " 4.09491506e-02 5.96362332e-02 8.68511374e-02 1.26485522e-01\n",
      " 1.84206997e-01 2.68269580e-01 3.90693994e-01 5.68986603e-01\n",
      " 8.28642773e-01 1.20679264e+00 1.75751062e+00 2.55954792e+00\n",
      " 3.72759372e+00 5.42867544e+00 7.90604321e+00 1.15139540e+01\n",
      " 1.67683294e+01 2.44205309e+01 3.55648031e+01 5.17947468e+01\n",
      " 7.54312006e+01 1.09854114e+02 1.59985872e+02 2.32995181e+02\n",
      " 3.39322177e+02 4.94171336e+02 7.19685673e+02 1.04811313e+03\n",
      " 1.52641797e+03 2.22299648e+03 3.23745754e+03 4.71486636e+03\n",
      " 6.86648845e+03 1.00000000e+04] \n",
      "\n",
      "Training Score: 0.7173\n",
      "Testing Score: 0.7193\n"
     ]
    }
   ],
   "source": [
    "# regularization candidates\n",
    "print('Candidates of Regularization Parameter C:')\n",
    "print(Logistic_model.Cs_, '\\n')\n",
    "\n",
    "# accuracy scores\n",
    "print(f\"Training Score: {round(Logistic_model.score(X_train, y_train),4)}\")\n",
    "print(f\"Testing Score: {round(Logistic_model.score(X_test, y_test),4)}\")"
   ]
  },
  {
   "cell_type": "code",
   "execution_count": 54,
   "metadata": {},
   "outputs": [
    {
     "name": "stdout",
     "output_type": "stream",
     "text": [
      "Best Regularization Parameter C = 0.0409\n",
      "intercept = 0.6816\n"
     ]
    },
    {
     "data": {
      "text/html": [
       "<div>\n",
       "<style scoped>\n",
       "    .dataframe tbody tr th:only-of-type {\n",
       "        vertical-align: middle;\n",
       "    }\n",
       "\n",
       "    .dataframe tbody tr th {\n",
       "        vertical-align: top;\n",
       "    }\n",
       "\n",
       "    .dataframe thead th {\n",
       "        text-align: right;\n",
       "    }\n",
       "</style>\n",
       "<table border=\"1\" class=\"dataframe\">\n",
       "  <thead>\n",
       "    <tr style=\"text-align: right;\">\n",
       "      <th></th>\n",
       "      <th>estimates</th>\n",
       "    </tr>\n",
       "  </thead>\n",
       "  <tbody>\n",
       "    <tr>\n",
       "      <th>BLOOD_PRESSURE</th>\n",
       "      <td>-1.666157</td>\n",
       "    </tr>\n",
       "    <tr>\n",
       "      <th>age</th>\n",
       "      <td>0.596179</td>\n",
       "    </tr>\n",
       "    <tr>\n",
       "      <th>cholesterol</th>\n",
       "      <td>0.516220</td>\n",
       "    </tr>\n",
       "    <tr>\n",
       "      <th>ap_hi</th>\n",
       "      <td>0.187070</td>\n",
       "    </tr>\n",
       "    <tr>\n",
       "      <th>alco</th>\n",
       "      <td>-0.179802</td>\n",
       "    </tr>\n",
       "    <tr>\n",
       "      <th>smoke</th>\n",
       "      <td>-0.168232</td>\n",
       "    </tr>\n",
       "    <tr>\n",
       "      <th>gluc</th>\n",
       "      <td>-0.143928</td>\n",
       "    </tr>\n",
       "    <tr>\n",
       "      <th>active</th>\n",
       "      <td>-0.120874</td>\n",
       "    </tr>\n",
       "    <tr>\n",
       "      <th>height</th>\n",
       "      <td>0.118528</td>\n",
       "    </tr>\n",
       "    <tr>\n",
       "      <th>ap_lo</th>\n",
       "      <td>0.064561</td>\n",
       "    </tr>\n",
       "    <tr>\n",
       "      <th>new_age</th>\n",
       "      <td>0.049781</td>\n",
       "    </tr>\n",
       "    <tr>\n",
       "      <th>gender</th>\n",
       "      <td>0.047338</td>\n",
       "    </tr>\n",
       "    <tr>\n",
       "      <th>NEW_BMI</th>\n",
       "      <td>0.018988</td>\n",
       "    </tr>\n",
       "    <tr>\n",
       "      <th>weight</th>\n",
       "      <td>0.007740</td>\n",
       "    </tr>\n",
       "    <tr>\n",
       "      <th>bmi</th>\n",
       "      <td>0.000322</td>\n",
       "    </tr>\n",
       "  </tbody>\n",
       "</table>\n",
       "</div>"
      ],
      "text/plain": [
       "                estimates\n",
       "BLOOD_PRESSURE  -1.666157\n",
       "age              0.596179\n",
       "cholesterol      0.516220\n",
       "ap_hi            0.187070\n",
       "alco            -0.179802\n",
       "smoke           -0.168232\n",
       "gluc            -0.143928\n",
       "active          -0.120874\n",
       "height           0.118528\n",
       "ap_lo            0.064561\n",
       "new_age          0.049781\n",
       "gender           0.047338\n",
       "NEW_BMI          0.018988\n",
       "weight           0.007740\n",
       "bmi              0.000322"
      ]
     },
     "metadata": {},
     "output_type": "display_data"
    }
   ],
   "source": [
    "# fitted parameters\n",
    "print(f'Best Regularization Parameter C = {round(Logistic_model.C_[0],4)}')\n",
    "print(f'intercept = {round(Logistic_model.intercept_[0],4)}')\n",
    "d = {'estimates' : list(Logistic_model.coef_[0]),\n",
    "     'absolute' : np.abs(list(Logistic_model.coef_[0]))\n",
    "    }\n",
    "table = pd.DataFrame(d, index=X_train.columns)\n",
    "\n",
    "display(  table.sort_values('absolute', ascending=False).drop(columns='absolute')  )"
   ]
  },
  {
   "cell_type": "markdown",
   "metadata": {},
   "source": [
    "### Bagging classifier"
   ]
  },
  {
   "cell_type": "code",
   "execution_count": 55,
   "metadata": {},
   "outputs": [
    {
     "name": "stdout",
     "output_type": "stream",
     "text": [
      "Fitting 5 folds for each of 20 candidates, totalling 100 fits\n"
     ]
    },
    {
     "name": "stderr",
     "output_type": "stream",
     "text": [
      "[Parallel(n_jobs=-1)]: Using backend LokyBackend with 8 concurrent workers.\n",
      "[Parallel(n_jobs=-1)]: Done  16 tasks      | elapsed:   23.5s\n",
      "[Parallel(n_jobs=-1)]: Done 100 out of 100 | elapsed:  5.7min finished\n"
     ]
    },
    {
     "data": {
      "text/plain": [
       "BaggingClassifier(base_estimator=DecisionTreeClassifier(max_depth=8),\n",
       "                  n_estimators=20, random_state=8017)"
      ]
     },
     "execution_count": 55,
     "metadata": {},
     "output_type": "execute_result"
    }
   ],
   "source": [
    "####Building a model using Bagging\n",
    "\n",
    "\n",
    "# parameters candidates\n",
    "parameters = {'base_estimator__max_depth': [4,6,8,12,24],\n",
    "              'n_estimators': [20, 50, 100, 200]}\n",
    "\n",
    "# fitting\n",
    "Bagging_GSCV = GridSearchCV(BaggingClassifier(DecisionTreeClassifier(), random_state=8017), \n",
    "                            parameters, n_jobs=-1, verbose=3, return_train_score=True)\n",
    "Bagging_GSCV.fit(X_train, y_train)\n",
    "Bagging_model = Bagging_GSCV.best_estimator_\n",
    "Bagging_model\n"
   ]
  },
  {
   "cell_type": "code",
   "execution_count": 56,
   "metadata": {},
   "outputs": [
    {
     "data": {
      "image/png": "[encoded data removed]",
      "text/plain": [
       "<Figure size 792x576 with 1 Axes>"
      ]
     },
     "metadata": {
      "needs_background": "light"
     },
     "output_type": "display_data"
    }
   ],
   "source": [
    "train_bagging_scores = Bagging_GSCV.cv_results_['mean_train_score']\n",
    "test_bagging_scores = Bagging_GSCV.cv_results_['mean_test_score']\n",
    "\n",
    "#plt.plot(test_dt_scores, 'go-')\n",
    "plt.plot(train_bagging_scores, 'ro--')\n",
    "plt.plot(test_bagging_scores, 'ro-')\n",
    "plt.ylim(0.4, 1.05)\n",
    "plt.xticks(range(20), range(2, 22))\n",
    "plt.legend([\"Bagging training score\", \"Bagging test score\"])\n",
    "plt.axvline(np.argmax(test_bagging_scores), linestyle=\"dotted\", color=\"red\")\n",
    "plt.annotate(np.max(test_bagging_scores).round(4), (np.argmax(test_bagging_scores), np.max(test_bagging_scores)), xycoords=\"data\",\n",
    "                 xytext=(-40, 30), textcoords=\"offset pixels\", arrowprops=dict(facecolor=\"black\", shrink=0.1), fontsize=10,\n",
    "                 horizontalalignment=\"center\", verticalalignment=\"top\")\n",
    "plt.show()"
   ]
  },
  {
   "cell_type": "code",
   "execution_count": 57,
   "metadata": {},
   "outputs": [
    {
     "name": "stdout",
     "output_type": "stream",
     "text": [
      "{'base_estimator__ccp_alpha': 0.0, 'base_estimator__class_weight': None, 'base_estimator__criterion': 'gini', 'base_estimator__max_depth': 8, 'base_estimator__max_features': None, 'base_estimator__max_leaf_nodes': None, 'base_estimator__min_impurity_decrease': 0.0, 'base_estimator__min_impurity_split': None, 'base_estimator__min_samples_leaf': 1, 'base_estimator__min_samples_split': 2, 'base_estimator__min_weight_fraction_leaf': 0.0, 'base_estimator__presort': 'deprecated', 'base_estimator__random_state': None, 'base_estimator__splitter': 'best', 'base_estimator': DecisionTreeClassifier(max_depth=8), 'bootstrap': True, 'bootstrap_features': False, 'max_features': 1.0, 'max_samples': 1.0, 'n_estimators': 20, 'n_jobs': None, 'oob_score': False, 'random_state': 8017, 'verbose': 0, 'warm_start': False}\n",
      "Training Score: 0.7385\n",
      "Testing Score: 0.7301\n"
     ]
    }
   ],
   "source": [
    "# accuracy scores\n",
    "print(Bagging_model.get_params())\n",
    "print(f\"Training Score: {round(Bagging_model.score(X_train, y_train),4)}\")\n",
    "print(f\"Testing Score: {round(Bagging_model.score(X_test, y_test),4)}\")"
   ]
  },
  {
   "cell_type": "markdown",
   "metadata": {},
   "source": [
    "### Random Forest Classifier"
   ]
  },
  {
   "cell_type": "code",
   "execution_count": 58,
   "metadata": {},
   "outputs": [
    {
     "name": "stdout",
     "output_type": "stream",
     "text": [
      "Fitting 5 folds for each of 20 candidates, totalling 100 fits\n"
     ]
    },
    {
     "name": "stderr",
     "output_type": "stream",
     "text": [
      "[Parallel(n_jobs=-1)]: Using backend LokyBackend with 8 concurrent workers.\n",
      "[Parallel(n_jobs=-1)]: Done  16 tasks      | elapsed:    7.7s\n",
      "[Parallel(n_jobs=-1)]: Done 100 out of 100 | elapsed:  2.0min finished\n"
     ]
    },
    {
     "name": "stdout",
     "output_type": "stream",
     "text": [
      "Wall time: 2min 4s\n"
     ]
    },
    {
     "data": {
      "text/plain": [
       "RandomForestClassifier(max_depth=8, random_state=8017)"
      ]
     },
     "execution_count": 58,
     "metadata": {},
     "output_type": "execute_result"
    }
   ],
   "source": [
    "%%time\n",
    "\n",
    "# parameters candidates\n",
    "parameters = {'n_estimators': [20, 50, 100, 200],\n",
    "              'max_depth':[6,8,12,24,48]}\n",
    "\n",
    "# fitting\n",
    "RandomForest_GSCV = GridSearchCV(RandomForestClassifier(random_state=8017), \n",
    "                                 parameters, n_jobs=-1, verbose=3)\n",
    "RandomForest_GSCV.fit(X_train, y_train)\n",
    "RandomForest_model = RandomForest_GSCV.best_estimator_\n",
    "RandomForest_model"
   ]
  },
  {
   "cell_type": "code",
   "execution_count": 59,
   "metadata": {},
   "outputs": [
    {
     "name": "stdout",
     "output_type": "stream",
     "text": [
      "{'bootstrap': True, 'ccp_alpha': 0.0, 'class_weight': None, 'criterion': 'gini', 'max_depth': 8, 'max_features': 'auto', 'max_leaf_nodes': None, 'max_samples': None, 'min_impurity_decrease': 0.0, 'min_impurity_split': None, 'min_samples_leaf': 1, 'min_samples_split': 2, 'min_weight_fraction_leaf': 0.0, 'n_estimators': 100, 'n_jobs': None, 'oob_score': False, 'random_state': 8017, 'verbose': 0, 'warm_start': False}\n",
      "Training Score: 0.7386\n",
      "Testing Score: 0.732\n"
     ]
    }
   ],
   "source": [
    "# accuracy scores\n",
    "print(RandomForest_model.get_params())\n",
    "print(f\"Training Score: {round(RandomForest_model.score(X_train, y_train),4)}\")\n",
    "print(f\"Testing Score: {round(RandomForest_model.score(X_test, y_test),4)}\")"
   ]
  },
  {
   "cell_type": "markdown",
   "metadata": {},
   "source": [
    "### Adaboost Classifer"
   ]
  },
  {
   "cell_type": "code",
   "execution_count": 60,
   "metadata": {},
   "outputs": [
    {
     "name": "stdout",
     "output_type": "stream",
     "text": [
      "Fitting 5 folds for each of 24 candidates, totalling 120 fits\n"
     ]
    },
    {
     "name": "stderr",
     "output_type": "stream",
     "text": [
      "[Parallel(n_jobs=-1)]: Using backend LokyBackend with 8 concurrent workers.\n",
      "[Parallel(n_jobs=-1)]: Done  16 tasks      | elapsed:   18.1s\n",
      "[Parallel(n_jobs=-1)]: Done 120 out of 120 | elapsed:  5.9min finished\n"
     ]
    },
    {
     "name": "stdout",
     "output_type": "stream",
     "text": [
      "Wall time: 5min 53s\n"
     ]
    },
    {
     "data": {
      "text/plain": [
       "AdaBoostClassifier(base_estimator=DecisionTreeClassifier(max_depth=2),\n",
       "                   n_estimators=20, random_state=8017)"
      ]
     },
     "execution_count": 60,
     "metadata": {},
     "output_type": "execute_result"
    }
   ],
   "source": [
    "%%time\n",
    "\n",
    "# parameters candidates\n",
    "parameters = {'base_estimator__max_depth': [2,3,4,6,8,12],\n",
    "              'n_estimators': [20, 50, 100, 200]}\n",
    "\n",
    "# fitting\n",
    "Adaboost_GSCV = GridSearchCV(AdaBoostClassifier(DecisionTreeClassifier(), random_state=8017), \n",
    "                             parameters, n_jobs=-1, verbose=3)\n",
    "Adaboost_GSCV.fit(X_train, y_train)\n",
    "Adaboost_model = Adaboost_GSCV.best_estimator_\n",
    "Adaboost_model"
   ]
  },
  {
   "cell_type": "code",
   "execution_count": 61,
   "metadata": {},
   "outputs": [
    {
     "name": "stdout",
     "output_type": "stream",
     "text": [
      "{'algorithm': 'SAMME.R', 'base_estimator__ccp_alpha': 0.0, 'base_estimator__class_weight': None, 'base_estimator__criterion': 'gini', 'base_estimator__max_depth': 2, 'base_estimator__max_features': None, 'base_estimator__max_leaf_nodes': None, 'base_estimator__min_impurity_decrease': 0.0, 'base_estimator__min_impurity_split': None, 'base_estimator__min_samples_leaf': 1, 'base_estimator__min_samples_split': 2, 'base_estimator__min_weight_fraction_leaf': 0.0, 'base_estimator__presort': 'deprecated', 'base_estimator__random_state': None, 'base_estimator__splitter': 'best', 'base_estimator': DecisionTreeClassifier(max_depth=2), 'learning_rate': 1.0, 'n_estimators': 20, 'random_state': 8017}\n",
      "Training Score: 0.7311\n",
      "Testing Score: 0.7316\n"
     ]
    }
   ],
   "source": [
    "# accuracy scores\n",
    "print(Adaboost_model.get_params())\n",
    "print(f\"Training Score: {round(Adaboost_model.score(X_train, y_train),4)}\")\n",
    "print(f\"Testing Score: {round(Adaboost_model.score(X_test, y_test),4)}\")"
   ]
  },
  {
   "cell_type": "markdown",
   "metadata": {},
   "source": [
    "### Linear Support Vector Classifier"
   ]
  },
  {
   "cell_type": "code",
   "execution_count": 62,
   "metadata": {},
   "outputs": [
    {
     "name": "stdout",
     "output_type": "stream",
     "text": [
      "Fitting 5 folds for each of 50 candidates, totalling 250 fits\n"
     ]
    },
    {
     "name": "stderr",
     "output_type": "stream",
     "text": [
      "[Parallel(n_jobs=-1)]: Using backend LokyBackend with 8 concurrent workers.\n",
      "[Parallel(n_jobs=-1)]: Done  16 tasks      | elapsed:    1.8s\n",
      "[Parallel(n_jobs=-1)]: Done 112 tasks      | elapsed:   13.5s\n",
      "[Parallel(n_jobs=-1)]: Done 250 out of 250 | elapsed:   29.1s finished\n"
     ]
    },
    {
     "name": "stdout",
     "output_type": "stream",
     "text": [
      "Wall time: 29.6 s\n"
     ]
    },
    {
     "data": {
      "text/plain": [
       "LinearSVC(C=0.040949150623804234, dual=False, random_state=8017)"
      ]
     },
     "execution_count": 62,
     "metadata": {},
     "output_type": "execute_result"
    }
   ],
   "source": [
    "\n",
    "%%time\n",
    "\n",
    "# parameters candidates\n",
    "parameters = {'C': np.logspace(-4, 4, 50)}\n",
    "\n",
    "# fitting\n",
    "LinearSVC_GSCV = GridSearchCV(LinearSVC(dual=False, random_state=8017), \n",
    "                              parameters, n_jobs=-1, verbose=3)\n",
    "LinearSVC_GSCV.fit(X_train, y_train)\n",
    "LinearSVC_model = LinearSVC_GSCV.best_estimator_\n",
    "LinearSVC_model"
   ]
  },
  {
   "cell_type": "code",
   "execution_count": 63,
   "metadata": {},
   "outputs": [
    {
     "name": "stdout",
     "output_type": "stream",
     "text": [
      "{'C': 0.040949150623804234, 'class_weight': None, 'dual': False, 'fit_intercept': True, 'intercept_scaling': 1, 'loss': 'squared_hinge', 'max_iter': 1000, 'multi_class': 'ovr', 'penalty': 'l2', 'random_state': 8017, 'tol': 0.0001, 'verbose': 0}\n",
      "Training Score: 0.7162\n",
      "Testing Score: 0.7187\n"
     ]
    }
   ],
   "source": [
    "# accuracy scores\n",
    "print(LinearSVC_model.get_params())\n",
    "print(f\"Training Score: {round(LinearSVC_model.score(X_train, y_train),4)}\")\n",
    "print(f\"Testing Score: {round(LinearSVC_model.score(X_test, y_test),4)}\")"
   ]
  },
  {
   "cell_type": "markdown",
   "metadata": {},
   "source": [
    "### Deep learning approach"
   ]
  },
  {
   "cell_type": "markdown",
   "metadata": {},
   "source": [
    "### Multilayer Perceptron for Neural Networks"
   ]
  },
  {
   "cell_type": "code",
   "execution_count": 64,
   "metadata": {},
   "outputs": [
    {
     "data": {
      "text/plain": [
       "[4,\n",
       " 8,\n",
       " 16,\n",
       " 32,\n",
       " (2, 4),\n",
       " (2, 8),\n",
       " (4, 4),\n",
       " (4, 8),\n",
       " (8, 4),\n",
       " (8, 8),\n",
       " (2, 8, 4),\n",
       " (2, 8, 8),\n",
       " (2, 16, 4),\n",
       " (2, 16, 8),\n",
       " (4, 8, 4),\n",
       " (4, 8, 8),\n",
       " (4, 16, 4),\n",
       " (4, 16, 8),\n",
       " (8, 8, 4),\n",
       " (8, 8, 8),\n",
       " (8, 16, 4),\n",
       " (8, 16, 8)]"
      ]
     },
     "execution_count": 64,
     "metadata": {},
     "output_type": "execute_result"
    }
   ],
   "source": [
    "#### Multilayer Perceptron for Neural Networks\n",
    "\n",
    "# layer sizes candidates\n",
    "ls = [x for x in [4,8,16,32]] + [x for x in product([2,4,8], [4,8])] + [x for x in product([2,4,8], [8,16], [4,8])]\n",
    "ls"
   ]
  },
  {
   "cell_type": "code",
   "execution_count": 65,
   "metadata": {},
   "outputs": [
    {
     "name": "stdout",
     "output_type": "stream",
     "text": [
      "Fitting 5 folds for each of 22 candidates, totalling 110 fits\n"
     ]
    },
    {
     "name": "stderr",
     "output_type": "stream",
     "text": [
      "[Parallel(n_jobs=-1)]: Using backend LokyBackend with 8 concurrent workers.\n",
      "[Parallel(n_jobs=-1)]: Done  16 tasks      | elapsed:   16.0s\n",
      "[Parallel(n_jobs=-1)]: Done 110 out of 110 | elapsed:  3.3min finished\n"
     ]
    },
    {
     "name": "stdout",
     "output_type": "stream",
     "text": [
      "Wall time: 3min 27s\n"
     ]
    },
    {
     "data": {
      "text/plain": [
       "MLPClassifier(hidden_layer_sizes=(4, 16, 4), random_state=8017)"
      ]
     },
     "execution_count": 65,
     "metadata": {},
     "output_type": "execute_result"
    }
   ],
   "source": [
    "%%time\n",
    "\n",
    "# parameters candidates\n",
    "parameters = {'hidden_layer_sizes': ls}\n",
    "\n",
    "# fitting\n",
    "MLP_GSCV = GridSearchCV(MLPClassifier(random_state=8017), \n",
    "                        parameters, n_jobs=-1, verbose=3)\n",
    "MLP_GSCV.fit(X_train, y_train)\n",
    "MLP_model = MLP_GSCV.best_estimator_\n",
    "MLP_model"
   ]
  },
  {
   "cell_type": "code",
   "execution_count": 66,
   "metadata": {},
   "outputs": [
    {
     "data": {
      "text/html": [
       "<div>\n",
       "<style scoped>\n",
       "    .dataframe tbody tr th:only-of-type {\n",
       "        vertical-align: middle;\n",
       "    }\n",
       "\n",
       "    .dataframe tbody tr th {\n",
       "        vertical-align: top;\n",
       "    }\n",
       "\n",
       "    .dataframe thead th {\n",
       "        text-align: right;\n",
       "    }\n",
       "</style>\n",
       "<table border=\"1\" class=\"dataframe\">\n",
       "  <thead>\n",
       "    <tr style=\"text-align: right;\">\n",
       "      <th></th>\n",
       "      <th>mean_fit_time</th>\n",
       "      <th>std_fit_time</th>\n",
       "      <th>mean_score_time</th>\n",
       "      <th>std_score_time</th>\n",
       "      <th>param_hidden_layer_sizes</th>\n",
       "      <th>params</th>\n",
       "      <th>split0_test_score</th>\n",
       "      <th>split1_test_score</th>\n",
       "      <th>split2_test_score</th>\n",
       "      <th>split3_test_score</th>\n",
       "      <th>split4_test_score</th>\n",
       "      <th>mean_test_score</th>\n",
       "      <th>std_test_score</th>\n",
       "      <th>rank_test_score</th>\n",
       "    </tr>\n",
       "  </thead>\n",
       "  <tbody>\n",
       "    <tr>\n",
       "      <th>16</th>\n",
       "      <td>26.946490</td>\n",
       "      <td>3.209079</td>\n",
       "      <td>0.022672</td>\n",
       "      <td>0.004265</td>\n",
       "      <td>(4, 16, 4)</td>\n",
       "      <td>{'hidden_layer_sizes': (4, 16, 4)}</td>\n",
       "      <td>0.719736</td>\n",
       "      <td>0.720113</td>\n",
       "      <td>0.722165</td>\n",
       "      <td>0.721409</td>\n",
       "      <td>0.715365</td>\n",
       "      <td>0.719757</td>\n",
       "      <td>0.002364</td>\n",
       "      <td>1</td>\n",
       "    </tr>\n",
       "    <tr>\n",
       "      <th>8</th>\n",
       "      <td>12.190868</td>\n",
       "      <td>2.661405</td>\n",
       "      <td>0.015558</td>\n",
       "      <td>0.001620</td>\n",
       "      <td>(8, 4)</td>\n",
       "      <td>{'hidden_layer_sizes': (8, 4)}</td>\n",
       "      <td>0.714259</td>\n",
       "      <td>0.702455</td>\n",
       "      <td>0.698272</td>\n",
       "      <td>0.714043</td>\n",
       "      <td>0.710832</td>\n",
       "      <td>0.707972</td>\n",
       "      <td>0.006467</td>\n",
       "      <td>2</td>\n",
       "    </tr>\n",
       "    <tr>\n",
       "      <th>15</th>\n",
       "      <td>25.312688</td>\n",
       "      <td>4.950381</td>\n",
       "      <td>0.019947</td>\n",
       "      <td>0.001545</td>\n",
       "      <td>(4, 8, 8)</td>\n",
       "      <td>{'hidden_layer_sizes': (4, 8, 8)}</td>\n",
       "      <td>0.695845</td>\n",
       "      <td>0.688574</td>\n",
       "      <td>0.713287</td>\n",
       "      <td>0.716215</td>\n",
       "      <td>0.712532</td>\n",
       "      <td>0.705291</td>\n",
       "      <td>0.010994</td>\n",
       "      <td>3</td>\n",
       "    </tr>\n",
       "    <tr>\n",
       "      <th>9</th>\n",
       "      <td>18.885661</td>\n",
       "      <td>7.443294</td>\n",
       "      <td>0.016489</td>\n",
       "      <td>0.000581</td>\n",
       "      <td>(8, 8)</td>\n",
       "      <td>{'hidden_layer_sizes': (8, 8)}</td>\n",
       "      <td>0.685175</td>\n",
       "      <td>0.723041</td>\n",
       "      <td>0.709793</td>\n",
       "      <td>0.712437</td>\n",
       "      <td>0.695722</td>\n",
       "      <td>0.705234</td>\n",
       "      <td>0.013286</td>\n",
       "      <td>4</td>\n",
       "    </tr>\n",
       "    <tr>\n",
       "      <th>3</th>\n",
       "      <td>9.299862</td>\n",
       "      <td>3.162947</td>\n",
       "      <td>0.041513</td>\n",
       "      <td>0.017075</td>\n",
       "      <td>32</td>\n",
       "      <td>{'hidden_layer_sizes': 32}</td>\n",
       "      <td>0.717186</td>\n",
       "      <td>0.683192</td>\n",
       "      <td>0.712060</td>\n",
       "      <td>0.699594</td>\n",
       "      <td>0.694966</td>\n",
       "      <td>0.701400</td>\n",
       "      <td>0.012157</td>\n",
       "      <td>5</td>\n",
       "    </tr>\n",
       "    <tr>\n",
       "      <th>2</th>\n",
       "      <td>7.628864</td>\n",
       "      <td>1.622753</td>\n",
       "      <td>0.019146</td>\n",
       "      <td>0.006064</td>\n",
       "      <td>16</td>\n",
       "      <td>{'hidden_layer_sizes': 16}</td>\n",
       "      <td>0.714920</td>\n",
       "      <td>0.637205</td>\n",
       "      <td>0.712626</td>\n",
       "      <td>0.705449</td>\n",
       "      <td>0.697988</td>\n",
       "      <td>0.693638</td>\n",
       "      <td>0.028833</td>\n",
       "      <td>6</td>\n",
       "    </tr>\n",
       "    <tr>\n",
       "      <th>7</th>\n",
       "      <td>16.460438</td>\n",
       "      <td>8.746942</td>\n",
       "      <td>0.016157</td>\n",
       "      <td>0.001163</td>\n",
       "      <td>(4, 8)</td>\n",
       "      <td>{'hidden_layer_sizes': (4, 8)}</td>\n",
       "      <td>0.639849</td>\n",
       "      <td>0.684797</td>\n",
       "      <td>0.719992</td>\n",
       "      <td>0.712249</td>\n",
       "      <td>0.697139</td>\n",
       "      <td>0.690805</td>\n",
       "      <td>0.028229</td>\n",
       "      <td>7</td>\n",
       "    </tr>\n",
       "    <tr>\n",
       "      <th>20</th>\n",
       "      <td>20.664302</td>\n",
       "      <td>5.204737</td>\n",
       "      <td>0.023063</td>\n",
       "      <td>0.006344</td>\n",
       "      <td>(8, 16, 4)</td>\n",
       "      <td>{'hidden_layer_sizes': (8, 16, 4)}</td>\n",
       "      <td>0.665345</td>\n",
       "      <td>0.675071</td>\n",
       "      <td>0.687978</td>\n",
       "      <td>0.706866</td>\n",
       "      <td>0.690245</td>\n",
       "      <td>0.685101</td>\n",
       "      <td>0.014138</td>\n",
       "      <td>8</td>\n",
       "    </tr>\n",
       "    <tr>\n",
       "      <th>17</th>\n",
       "      <td>22.949056</td>\n",
       "      <td>6.198688</td>\n",
       "      <td>0.025930</td>\n",
       "      <td>0.001260</td>\n",
       "      <td>(4, 16, 8)</td>\n",
       "      <td>{'hidden_layer_sizes': (4, 16, 8)}</td>\n",
       "      <td>0.699528</td>\n",
       "      <td>0.705571</td>\n",
       "      <td>0.607801</td>\n",
       "      <td>0.707716</td>\n",
       "      <td>0.701483</td>\n",
       "      <td>0.684420</td>\n",
       "      <td>0.038419</td>\n",
       "      <td>9</td>\n",
       "    </tr>\n",
       "    <tr>\n",
       "      <th>6</th>\n",
       "      <td>45.933047</td>\n",
       "      <td>18.474095</td>\n",
       "      <td>0.016954</td>\n",
       "      <td>0.002273</td>\n",
       "      <td>(4, 4)</td>\n",
       "      <td>{'hidden_layer_sizes': (4, 4)}</td>\n",
       "      <td>0.723135</td>\n",
       "      <td>0.699150</td>\n",
       "      <td>0.582491</td>\n",
       "      <td>0.709227</td>\n",
       "      <td>0.706960</td>\n",
       "      <td>0.684193</td>\n",
       "      <td>0.051436</td>\n",
       "      <td>10</td>\n",
       "    </tr>\n",
       "  </tbody>\n",
       "</table>\n",
       "</div>"
      ],
      "text/plain": [
       "    mean_fit_time  std_fit_time  mean_score_time  std_score_time  \\\n",
       "16      26.946490      3.209079         0.022672        0.004265   \n",
       "8       12.190868      2.661405         0.015558        0.001620   \n",
       "15      25.312688      4.950381         0.019947        0.001545   \n",
       "9       18.885661      7.443294         0.016489        0.000581   \n",
       "3        9.299862      3.162947         0.041513        0.017075   \n",
       "2        7.628864      1.622753         0.019146        0.006064   \n",
       "7       16.460438      8.746942         0.016157        0.001163   \n",
       "20      20.664302      5.204737         0.023063        0.006344   \n",
       "17      22.949056      6.198688         0.025930        0.001260   \n",
       "6       45.933047     18.474095         0.016954        0.002273   \n",
       "\n",
       "   param_hidden_layer_sizes                              params  \\\n",
       "16               (4, 16, 4)  {'hidden_layer_sizes': (4, 16, 4)}   \n",
       "8                    (8, 4)      {'hidden_layer_sizes': (8, 4)}   \n",
       "15                (4, 8, 8)   {'hidden_layer_sizes': (4, 8, 8)}   \n",
       "9                    (8, 8)      {'hidden_layer_sizes': (8, 8)}   \n",
       "3                        32          {'hidden_layer_sizes': 32}   \n",
       "2                        16          {'hidden_layer_sizes': 16}   \n",
       "7                    (4, 8)      {'hidden_layer_sizes': (4, 8)}   \n",
       "20               (8, 16, 4)  {'hidden_layer_sizes': (8, 16, 4)}   \n",
       "17               (4, 16, 8)  {'hidden_layer_sizes': (4, 16, 8)}   \n",
       "6                    (4, 4)      {'hidden_layer_sizes': (4, 4)}   \n",
       "\n",
       "    split0_test_score  split1_test_score  split2_test_score  \\\n",
       "16           0.719736           0.720113           0.722165   \n",
       "8            0.714259           0.702455           0.698272   \n",
       "15           0.695845           0.688574           0.713287   \n",
       "9            0.685175           0.723041           0.709793   \n",
       "3            0.717186           0.683192           0.712060   \n",
       "2            0.714920           0.637205           0.712626   \n",
       "7            0.639849           0.684797           0.719992   \n",
       "20           0.665345           0.675071           0.687978   \n",
       "17           0.699528           0.705571           0.607801   \n",
       "6            0.723135           0.699150           0.582491   \n",
       "\n",
       "    split3_test_score  split4_test_score  mean_test_score  std_test_score  \\\n",
       "16           0.721409           0.715365         0.719757        0.002364   \n",
       "8            0.714043           0.710832         0.707972        0.006467   \n",
       "15           0.716215           0.712532         0.705291        0.010994   \n",
       "9            0.712437           0.695722         0.705234        0.013286   \n",
       "3            0.699594           0.694966         0.701400        0.012157   \n",
       "2            0.705449           0.697988         0.693638        0.028833   \n",
       "7            0.712249           0.697139         0.690805        0.028229   \n",
       "20           0.706866           0.690245         0.685101        0.014138   \n",
       "17           0.707716           0.701483         0.684420        0.038419   \n",
       "6            0.709227           0.706960         0.684193        0.051436   \n",
       "\n",
       "    rank_test_score  \n",
       "16                1  \n",
       "8                 2  \n",
       "15                3  \n",
       "9                 4  \n",
       "3                 5  \n",
       "2                 6  \n",
       "7                 7  \n",
       "20                8  \n",
       "17                9  \n",
       "6                10  "
      ]
     },
     "execution_count": 66,
     "metadata": {},
     "output_type": "execute_result"
    }
   ],
   "source": [
    "# top 10 cv scores for the MLP candidates\n",
    "pd.DataFrame(MLP_GSCV.cv_results_).sort_values('rank_test_score').head(10)"
   ]
  },
  {
   "cell_type": "code",
   "execution_count": 67,
   "metadata": {},
   "outputs": [
    {
     "name": "stdout",
     "output_type": "stream",
     "text": [
      "MLPClassifier(hidden_layer_sizes=(4, 16, 4), random_state=8017)\n",
      "Training Score: 0.7171\n",
      "Testing Score: 0.7205\n"
     ]
    }
   ],
   "source": [
    "# scores\n",
    "print(MLP_model)\n",
    "print(f\"Training Score: {round(MLP_model.score(X_train, y_train),4)}\")\n",
    "print(f\"Testing Score: {round(MLP_model.score(X_test, y_test),4)}\")"
   ]
  },
  {
   "cell_type": "code",
   "execution_count": 68,
   "metadata": {},
   "outputs": [
    {
     "data": {
      "text/html": [
       "<div>\n",
       "<style scoped>\n",
       "    .dataframe tbody tr th:only-of-type {\n",
       "        vertical-align: middle;\n",
       "    }\n",
       "\n",
       "    .dataframe tbody tr th {\n",
       "        vertical-align: top;\n",
       "    }\n",
       "\n",
       "    .dataframe thead th {\n",
       "        text-align: right;\n",
       "    }\n",
       "</style>\n",
       "<table border=\"1\" class=\"dataframe\">\n",
       "  <thead>\n",
       "    <tr style=\"text-align: right;\">\n",
       "      <th></th>\n",
       "      <th>Model</th>\n",
       "      <th>Prediction Accuracy</th>\n",
       "    </tr>\n",
       "  </thead>\n",
       "  <tbody>\n",
       "    <tr>\n",
       "      <th>3</th>\n",
       "      <td>Random Forest</td>\n",
       "      <td>0.732039</td>\n",
       "    </tr>\n",
       "    <tr>\n",
       "      <th>4</th>\n",
       "      <td>Adaboost</td>\n",
       "      <td>0.731586</td>\n",
       "    </tr>\n",
       "    <tr>\n",
       "      <th>2</th>\n",
       "      <td>Bagging</td>\n",
       "      <td>0.730075</td>\n",
       "    </tr>\n",
       "    <tr>\n",
       "      <th>0</th>\n",
       "      <td>Decision Tree</td>\n",
       "      <td>0.724107</td>\n",
       "    </tr>\n",
       "    <tr>\n",
       "      <th>6</th>\n",
       "      <td>MLP</td>\n",
       "      <td>0.720480</td>\n",
       "    </tr>\n",
       "    <tr>\n",
       "      <th>1</th>\n",
       "      <td>Logistic</td>\n",
       "      <td>0.719272</td>\n",
       "    </tr>\n",
       "    <tr>\n",
       "      <th>5</th>\n",
       "      <td>Linear SVC</td>\n",
       "      <td>0.718667</td>\n",
       "    </tr>\n",
       "  </tbody>\n",
       "</table>\n",
       "</div>"
      ],
      "text/plain": [
       "           Model  Prediction Accuracy\n",
       "3  Random Forest             0.732039\n",
       "4       Adaboost             0.731586\n",
       "2        Bagging             0.730075\n",
       "0  Decision Tree             0.724107\n",
       "6            MLP             0.720480\n",
       "1       Logistic             0.719272\n",
       "5     Linear SVC             0.718667"
      ]
     },
     "execution_count": 68,
     "metadata": {},
     "output_type": "execute_result"
    }
   ],
   "source": [
    "####Comparing all models\n",
    "\n",
    "# accuracy scores of all models\n",
    "result = pd.DataFrame({'Model':['Decision Tree','Logistic',\n",
    "                                'Bagging','Random Forest','Adaboost',\n",
    "                                'Linear SVC','MLP'],\n",
    "                       'Prediction Accuracy': [DecisionTree_model.score(X_test, y_test),\n",
    "                                               Logistic_model.score(X_test, y_test),\n",
    "                                               Bagging_model.score(X_test, y_test),\n",
    "                                               RandomForest_model.score(X_test, y_test),\n",
    "                                               Adaboost_model.score(X_test, y_test),\n",
    "                                               LinearSVC_model.score(X_test, y_test),\n",
    "                                              MLP_model.score(X_test, y_test)]}\n",
    "                     )\n",
    "result.sort_values('Prediction Accuracy', ascending=False)"
   ]
  },
  {
   "cell_type": "markdown",
   "metadata": {},
   "source": [
    "### Testing and Evaluation"
   ]
  },
  {
   "cell_type": "markdown",
   "metadata": {},
   "source": [
    "### Classification Reports and Confusion Matrix"
   ]
  },
  {
   "cell_type": "code",
   "execution_count": 69,
   "metadata": {},
   "outputs": [],
   "source": [
    "####Classification Reports and Confusion Matrix\n",
    "\n",
    "def plot_confusion_matrix(classifier, classes,\n",
    "                          normalize=False,\n",
    "                          title='Confusion matrix',\n",
    "                          cmap=plt.cm.Blues):\n",
    "    \"\"\"\n",
    "    This function prints and plots the confusion matrix.\n",
    "    Normalization can be applied by setting `normalize=True`.\n",
    "    \"\"\"\n",
    "    pred_train = classifier.predict_proba(X_train)\n",
    "    pred_test = classifier.predict_proba(X_test)\n",
    "    acc_train = accuracy_score(y_train, np.argmax(pred_train, 1))\n",
    "    acc_test = accuracy_score(y_test, np.argmax(pred_test, 1))\n",
    "\n",
    "    print(\"Training ACC:\", round(acc_train, 4), \"Testing ACC:\", round(acc_test, 4))\n",
    "    cm = confusion_matrix(y_test, np.argmax(pred_test, 1))\n",
    "    print(\"Confusion matrix: \\n\", cm)\n",
    "    print(\"Testing:\\n\",classification_report(y_test, np.argmax(pred_test, 1), target_names=classes))\n",
    "\n",
    "    if normalize:\n",
    "        cm = cm.astype('float') / cm.sum(axis=1)[:, np.newaxis]\n",
    "        print(\"Normalized confusion matrix\")\n",
    "    else:\n",
    "        print('Confusion matrix, without normalization')\n",
    "\n",
    "    plt.imshow(cm, interpolation='nearest', cmap=cmap)\n",
    "    plt.title(title)\n",
    "    plt.colorbar()\n",
    "    tick_marks = np.arange(len(classes))\n",
    "    plt.xticks(tick_marks, classes, rotation=45)\n",
    "    plt.yticks(tick_marks, classes)\n",
    "\n",
    "    fmt = '.2f' if normalize else 'd'\n",
    "    thresh = cm.max() / 2.\n",
    "    for i, j in product(range(cm.shape[0]), range(cm.shape[1])):\n",
    "        plt.text(j, i, format(cm[i, j], fmt),\n",
    "                 horizontalalignment=\"center\",\n",
    "                 color=\"white\" if cm[i, j] > thresh else \"black\")\n",
    "\n",
    "    plt.ylabel('True label')\n",
    "    plt.xlabel('Predicted label')\n",
    "    plt.tight_layout()"
   ]
  },
  {
   "cell_type": "code",
   "execution_count": 70,
   "metadata": {},
   "outputs": [
    {
     "name": "stdout",
     "output_type": "stream",
     "text": [
      "Training ACC: 0.7386 Testing ACC: 0.732\n",
      "Confusion matrix: \n",
      " [[5101 1366]\n",
      " [2181 4589]]\n",
      "Testing:\n",
      "               precision    recall  f1-score   support\n",
      "\n",
      "          No       0.70      0.79      0.74      6467\n",
      "         Yes       0.77      0.68      0.72      6770\n",
      "\n",
      "    accuracy                           0.73     13237\n",
      "   macro avg       0.74      0.73      0.73     13237\n",
      "weighted avg       0.74      0.73      0.73     13237\n",
      "\n",
      "Confusion matrix, without normalization\n"
     ]
    },
    {
     "data": {
      "image/png": "[encoded data removed]",
      "text/plain": [
       "<Figure size 792x576 with 2 Axes>"
      ]
     },
     "metadata": {
      "needs_background": "light"
     },
     "output_type": "display_data"
    }
   ],
   "source": [
    "plot_confusion_matrix(RandomForest_model, classes=['No','Yes'],\n",
    "                      title='Confusion matrix of Random Forest')"
   ]
  },
  {
   "cell_type": "code",
   "execution_count": 71,
   "metadata": {},
   "outputs": [
    {
     "name": "stdout",
     "output_type": "stream",
     "text": [
      "Training ACC: 0.7331 Testing ACC: 0.7241\n",
      "Confusion matrix: \n",
      " [[4972 1495]\n",
      " [2157 4613]]\n",
      "Testing:\n",
      "               precision    recall  f1-score   support\n",
      "\n",
      "          No       0.70      0.77      0.73      6467\n",
      "         Yes       0.76      0.68      0.72      6770\n",
      "\n",
      "    accuracy                           0.72     13237\n",
      "   macro avg       0.73      0.73      0.72     13237\n",
      "weighted avg       0.73      0.72      0.72     13237\n",
      "\n",
      "Confusion matrix, without normalization\n"
     ]
    },
    {
     "data": {
      "image/png": "[encoded data removed]",
      "text/plain": [
       "<Figure size 792x576 with 2 Axes>"
      ]
     },
     "metadata": {
      "needs_background": "light"
     },
     "output_type": "display_data"
    }
   ],
   "source": [
    "plot_confusion_matrix(DecisionTree_model, classes=['No','Yes'],\n",
    "                      title='Confusion matrix of Decision Tree')"
   ]
  },
  {
   "cell_type": "code",
   "execution_count": 72,
   "metadata": {},
   "outputs": [
    {
     "name": "stdout",
     "output_type": "stream",
     "text": [
      "Training ACC: 0.7173 Testing ACC: 0.7193\n",
      "Confusion matrix: \n",
      " [[5228 1239]\n",
      " [2477 4293]]\n",
      "Testing:\n",
      "               precision    recall  f1-score   support\n",
      "\n",
      "          No       0.68      0.81      0.74      6467\n",
      "         Yes       0.78      0.63      0.70      6770\n",
      "\n",
      "    accuracy                           0.72     13237\n",
      "   macro avg       0.73      0.72      0.72     13237\n",
      "weighted avg       0.73      0.72      0.72     13237\n",
      "\n",
      "Confusion matrix, without normalization\n"
     ]
    },
    {
     "data": {
      "image/png": "[encoded data removed]",
      "text/plain": [
       "<Figure size 792x576 with 2 Axes>"
      ]
     },
     "metadata": {
      "needs_background": "light"
     },
     "output_type": "display_data"
    }
   ],
   "source": [
    "plot_confusion_matrix(Logistic_model, classes=['No','Yes'],\n",
    "                      title='Confusion matrix of Logistic Regression')"
   ]
  },
  {
   "cell_type": "code",
   "execution_count": 73,
   "metadata": {},
   "outputs": [
    {
     "data": {
      "text/plain": [
       "<Figure size 1440x1440 with 0 Axes>"
      ]
     },
     "metadata": {},
     "output_type": "display_data"
    }
   ],
   "source": [
    "yy_test = label_binarize(y_test, classes=[0, 1])\n",
    "plt.figure(figsize=(20, 20))\n",
    "def plot_roc_curve(classifier, label):\n",
    "    # Compute ROC curve and ROC area for each class\n",
    "    fpr = []\n",
    "    tpr = []\n",
    "    roc_auc = []\n",
    "    pred_test = classifier.predict_proba(X_test)\n",
    "    fpr, tpr, _ = roc_curve(yy_test, pred_test[:, 1])\n",
    "    roc_auc = auc(fpr, tpr)\n",
    "    \n",
    "    plt.plot(fpr, tpr, label=label+(' (area = %0.4f)' % roc_auc))\n",
    "def show_roc_curve():\n",
    "    plt.plot([0, 1], [0, 1], 'k--')\n",
    "    plt.xlim([0.0, 1.0])\n",
    "    plt.ylim([0.0, 1.05])\n",
    "    plt.xlabel('False Positive Rate')\n",
    "    plt.ylabel('True Positive Rate')\n",
    "    plt.title('ROC curve')\n",
    "    plt.legend(loc=\"lower right\")\n",
    "    plt.show()"
   ]
  },
  {
   "cell_type": "code",
   "execution_count": 74,
   "metadata": {},
   "outputs": [
    {
     "data": {
      "image/png": "[encoded data removed]",
      "text/plain": [
       "<Figure size 792x576 with 1 Axes>"
      ]
     },
     "metadata": {
      "needs_background": "light"
     },
     "output_type": "display_data"
    }
   ],
   "source": [
    "plot_roc_curve(RandomForest_model, label='Random Forest')\n",
    "plot_roc_curve(DecisionTree_model, label='Decision Tree')\n",
    "plot_roc_curve(Logistic_model, label='Logistic Regression')\n",
    "show_roc_curve()"
   ]
  },
  {
   "cell_type": "markdown",
   "metadata": {},
   "source": [
    "Random forest had the overall best prediction and with this acuracy it can help clinican or physician in detecting and diagnosing heart failure"
   ]
  },
  {
   "cell_type": "code",
   "execution_count": null,
   "metadata": {},
   "outputs": [],
   "source": []
  }
 ],
 "metadata": {
  "kernelspec": {
   "display_name": "Python 3",
   "language": "python",
   "name": "python3"
  },
  "language_info": {
   "codemirror_mode": {
    "name": "ipython",
    "version": 3
   },
   "file_extension": ".py",
   "mimetype": "text/x-python",
   "name": "python",
   "nbconvert_exporter": "python",
   "pygments_lexer": "ipython3",
   "version": "3.8.3"
  }
 },
 "nbformat": 4,
 "nbformat_minor": 4
}
